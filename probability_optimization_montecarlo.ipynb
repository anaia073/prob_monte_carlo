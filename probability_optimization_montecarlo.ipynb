{
  "nbformat": 4,
  "nbformat_minor": 0,
  "metadata": {
    "colab": {
      "provenance": [],
      "authorship_tag": "ABX9TyMrZKhlGErYutstYePuHWaV"
    },
    "kernelspec": {
      "name": "python3",
      "display_name": "Python 3"
    },
    "language_info": {
      "name": "python"
    }
  },
  "cells": [
    {
      "cell_type": "code",
      "execution_count": 1,
      "metadata": {
        "colab": {
          "base_uri": "https://localhost:8080/"
        },
        "id": "7DnT-l25ixjd",
        "outputId": "8594755f-3567-4b20-aecd-8eb261d210f7"
      },
      "outputs": [
        {
          "output_type": "stream",
          "name": "stdout",
          "text": [
            "Collecting ortools\n",
            "  Downloading ortools-9.8.3296-cp310-cp310-manylinux_2_17_x86_64.manylinux2014_x86_64.whl (22.9 MB)\n",
            "\u001b[2K     \u001b[90m━━━━━━━━━━━━━━━━━━━━━━━━━━━━━━━━━━━━━━━━\u001b[0m \u001b[32m22.9/22.9 MB\u001b[0m \u001b[31m28.1 MB/s\u001b[0m eta \u001b[36m0:00:00\u001b[0m\n",
            "\u001b[?25hCollecting absl-py>=2.0.0 (from ortools)\n",
            "  Downloading absl_py-2.0.0-py3-none-any.whl (130 kB)\n",
            "\u001b[2K     \u001b[90m━━━━━━━━━━━━━━━━━━━━━━━━━━━━━━━━━━━━━━━━\u001b[0m \u001b[32m130.2/130.2 kB\u001b[0m \u001b[31m15.2 MB/s\u001b[0m eta \u001b[36m0:00:00\u001b[0m\n",
            "\u001b[?25hRequirement already satisfied: numpy>=1.13.3 in /usr/local/lib/python3.10/dist-packages (from ortools) (1.23.5)\n",
            "Collecting pandas>=2.0.0 (from ortools)\n",
            "  Downloading pandas-2.1.3-cp310-cp310-manylinux_2_17_x86_64.manylinux2014_x86_64.whl (12.3 MB)\n",
            "\u001b[2K     \u001b[90m━━━━━━━━━━━━━━━━━━━━━━━━━━━━━━━━━━━━━━━━\u001b[0m \u001b[32m12.3/12.3 MB\u001b[0m \u001b[31m73.8 MB/s\u001b[0m eta \u001b[36m0:00:00\u001b[0m\n",
            "\u001b[?25hCollecting protobuf>=4.25.0 (from ortools)\n",
            "  Downloading protobuf-4.25.1-cp37-abi3-manylinux2014_x86_64.whl (294 kB)\n",
            "\u001b[2K     \u001b[90m━━━━━━━━━━━━━━━━━━━━━━━━━━━━━━━━━━━━━━━━\u001b[0m \u001b[32m294.6/294.6 kB\u001b[0m \u001b[31m14.3 MB/s\u001b[0m eta \u001b[36m0:00:00\u001b[0m\n",
            "\u001b[?25hRequirement already satisfied: python-dateutil>=2.8.2 in /usr/local/lib/python3.10/dist-packages (from pandas>=2.0.0->ortools) (2.8.2)\n",
            "Requirement already satisfied: pytz>=2020.1 in /usr/local/lib/python3.10/dist-packages (from pandas>=2.0.0->ortools) (2023.3.post1)\n",
            "Collecting tzdata>=2022.1 (from pandas>=2.0.0->ortools)\n",
            "  Downloading tzdata-2023.3-py2.py3-none-any.whl (341 kB)\n",
            "\u001b[2K     \u001b[90m━━━━━━━━━━━━━━━━━━━━━━━━━━━━━━━━━━━━━━━━\u001b[0m \u001b[32m341.8/341.8 kB\u001b[0m \u001b[31m19.9 MB/s\u001b[0m eta \u001b[36m0:00:00\u001b[0m\n",
            "\u001b[?25hRequirement already satisfied: six>=1.5 in /usr/local/lib/python3.10/dist-packages (from python-dateutil>=2.8.2->pandas>=2.0.0->ortools) (1.16.0)\n",
            "Installing collected packages: tzdata, protobuf, absl-py, pandas, ortools\n",
            "  Attempting uninstall: protobuf\n",
            "    Found existing installation: protobuf 3.20.3\n",
            "    Uninstalling protobuf-3.20.3:\n",
            "      Successfully uninstalled protobuf-3.20.3\n",
            "  Attempting uninstall: absl-py\n",
            "    Found existing installation: absl-py 1.4.0\n",
            "    Uninstalling absl-py-1.4.0:\n",
            "      Successfully uninstalled absl-py-1.4.0\n",
            "  Attempting uninstall: pandas\n",
            "    Found existing installation: pandas 1.5.3\n",
            "    Uninstalling pandas-1.5.3:\n",
            "      Successfully uninstalled pandas-1.5.3\n",
            "\u001b[31mERROR: pip's dependency resolver does not currently take into account all the packages that are installed. This behaviour is the source of the following dependency conflicts.\n",
            "lida 0.0.10 requires fastapi, which is not installed.\n",
            "lida 0.0.10 requires kaleido, which is not installed.\n",
            "lida 0.0.10 requires python-multipart, which is not installed.\n",
            "lida 0.0.10 requires uvicorn, which is not installed.\n",
            "google-colab 1.0.0 requires pandas==1.5.3, but you have pandas 2.1.3 which is incompatible.\n",
            "tensorflow-metadata 1.14.0 requires absl-py<2.0.0,>=0.9, but you have absl-py 2.0.0 which is incompatible.\n",
            "tensorflow-metadata 1.14.0 requires protobuf<4.21,>=3.20.3, but you have protobuf 4.25.1 which is incompatible.\u001b[0m\u001b[31m\n",
            "\u001b[0mSuccessfully installed absl-py-2.0.0 ortools-9.8.3296 pandas-2.1.3 protobuf-4.25.1 tzdata-2023.3\n"
          ]
        }
      ],
      "source": [
        "pip install ortools"
      ]
    },
    {
      "cell_type": "code",
      "execution_count": 2,
      "metadata": {
        "id": "4c0b7e79"
      },
      "outputs": [],
      "source": [
        "import pandas as pd\n",
        "import random as rand\n",
        "from math import floor\n",
        "\n",
        "#packages for optimisation functions\n",
        "import scipy.special as ss\n",
        "from ortools.linear_solver import pywraplp\n",
        "\n",
        "# package to build interactive charts\n",
        "import plotly.graph_objects as go\n",
        "from plotly.subplots import make_subplots\n",
        "import plotly.express as px"
      ]
    },
    {
      "cell_type": "markdown",
      "metadata": {
        "id": "_lKUyZFYsFpq"
      },
      "source": [
        "# Input Parameters"
      ]
    },
    {
      "cell_type": "markdown",
      "source": [
        "## Step 1: Assign Input Parameters for further functions."
      ],
      "metadata": {
        "id": "4sCNVosshn_E"
      }
    },
    {
      "cell_type": "code",
      "execution_count": 19,
      "metadata": {
        "id": "9NUzaT86sG_c"
      },
      "outputs": [],
      "source": [
        "#Event 1: Player Bet Probability\n",
        "# based on players behaviour, can be estimated on historical data\n",
        "p_bet_draw = 0.05\n",
        "p_bet_home = 0.62\n",
        "p_bet_away = 1 - p_bet_draw - p_bet_home\n",
        "#Event 2: Game Resolution Probability\n",
        "# the following three can be estimated based on public data\n",
        "p_draw_win = 0.33\n",
        "p_home_win = 0.35\n",
        "p_away_win = 1 - p_draw_win - p_home_win\n",
        "\n",
        "# Games Qty per 1 week\n",
        "game_count = 10\n",
        "# Entry Fee\n",
        "entry_fee = 20\n",
        "#Payout per 1 Game Resolution\n",
        "pay_draw = 25\n",
        "pay_home = 20\n",
        "pay_away = 15\n",
        "# extra payouts for players based on amount of games win from 0 to 10\n",
        "extra_payout = [0, 0, 0, 0, 0, 0, 20, 80, 160, 10000, 50000]"
      ]
    },
    {
      "cell_type": "markdown",
      "metadata": {
        "id": "zEvzS1iTqaF9"
      },
      "source": [
        "# Excpected Value Calculation"
      ]
    },
    {
      "cell_type": "markdown",
      "metadata": {
        "id": "OP49yavxsA39"
      },
      "source": [
        "### Function to Caclulate EV of player"
      ]
    },
    {
      "cell_type": "code",
      "execution_count": 4,
      "metadata": {
        "id": "_MF5pGzxuHn6"
      },
      "outputs": [],
      "source": [
        "def excpected_value(entry_fee,game_count,\n",
        "                    p_draw_win, p_away_win,p_home_win,\n",
        "                    p_bet_draw, p_bet_away,p_bet_home,\n",
        "                    pay_draw, pay_away,pay_home, extra_payout):\n",
        "  # Excpected Payouts is the average expected gross gain of player\n",
        "  expected_payouts = -entry_fee\n",
        "\n",
        "  # Probability, that player wins single Game\n",
        "  probability_win_single = p_draw_win*p_bet_draw + p_away_win*p_bet_away + p_home_win*p_bet_home\n",
        "\n",
        "  # Expected Player Value from Player Side per Game level\n",
        "  expected_value_single_win = p_draw_win*pay_draw + p_away_win*pay_away + p_home_win*pay_home\n",
        "\n",
        "  for n in range(0, game_count + 1):\n",
        "    # probability to win n out of Games Qty\n",
        "    prob_win_n_games = probability_win_single**n;\n",
        "    prob_loose_remainng = (1.0-probability_win_single)**(game_count-n);\n",
        "    probability_to_win_n_games = prob_win_n_games*prob_loose_remainng*ss.comb(game_count, n)\n",
        "\n",
        "    # Expected Payouts are Extra Payouts per N correct guesses and Game Payouts * count of guessed games\n",
        "    expected_payout=n*expected_value_single_win+extra_payout[n]\n",
        "    expected_payouts += expected_payout * probability_to_win_n_games\n",
        "\n",
        "  net_gain_player_total = expected_payouts - entry_fee\n",
        "  return expected_payouts #print('Players Net Gain: ' \"{:.2f}\".format(net_gain_player_total))"
      ]
    },
    {
      "cell_type": "code",
      "execution_count": 5,
      "metadata": {
        "colab": {
          "base_uri": "https://localhost:8080/"
        },
        "id": "DQISeScVj8ST",
        "outputId": "7ea5a184-6032-4d41-f990-77d3eebd1762"
      },
      "outputs": [
        {
          "output_type": "execute_result",
          "data": {
            "text/plain": [
              "56.109878675462184"
            ]
          },
          "metadata": {},
          "execution_count": 5
        }
      ],
      "source": [
        "# run the function with input parameters\n",
        "excpected_value(entry_fee,game_count,\n",
        "                    p_draw_win, p_away_win,p_home_win,\n",
        "                    p_bet_draw, p_bet_away,p_bet_home,\n",
        "                    pay_draw, pay_away,pay_home, extra_payout)"
      ]
    },
    {
      "cell_type": "code",
      "source": [
        "# function to build chart\n",
        "def excpected_value_chart(entry_fee,game_count,\n",
        "                    p_draw_win, p_away_win,p_home_win,\n",
        "                    p_bet_draw, p_bet_away,p_bet_home,\n",
        "                    pay_draw, pay_away,pay_home, extra_payout):\n",
        "  # starts with Negative Entry Fee, because player put their money to play the game\n",
        "  expected_payouts = -entry_fee\n",
        "  probability_to_win_n_games_list = []\n",
        "  payouts = []\n",
        "\n",
        "  # Probability, that player wins single Game\n",
        "  probability_win_single = p_draw_win*p_bet_draw + p_away_win*p_bet_away + p_home_win*p_bet_home\n",
        "\n",
        "  # Expected Player Value from Player Side per Game level\n",
        "  expected_value_single_win = p_draw_win*pay_draw + p_away_win*pay_away + p_home_win*pay_home\n",
        "\n",
        "  for n in range(0, game_count + 1):\n",
        "    # probability to win n out of Games Qty\n",
        "    prob_win_n_games = probability_win_single**n;\n",
        "    prob_loose_remainng = (1.0-probability_win_single)**(game_count-n);\n",
        "    probability_to_win_n_games = prob_win_n_games*prob_loose_remainng*ss.comb(game_count, n)\n",
        "    probability_to_win_n_games_list.append(probability_to_win_n_games*100)\n",
        "\n",
        "\n",
        "    # Expected Value for all Games per Player equals to Expected Received Value from Player Side per Game level + Extra Payouts, based on the amount of Games wins\n",
        "    expected_payout=n*expected_value_single_win+extra_payout[n]\n",
        "\n",
        "    expected_payouts += expected_payout * probability_to_win_n_games\n",
        "    payouts.append(expected_payouts)\n",
        "\n",
        "  correct_guesses = [0,1,2,3,4,5,6,7,8,9,10]\n",
        "\n",
        "  d = {\n",
        "        'Correct Guesses, #': correct_guesses,\n",
        "        'Prob to Guess, %': probability_to_win_n_games_list,\n",
        "        'Expected Value, $': payouts\n",
        "     }\n",
        "\n",
        "  df = pd.DataFrame.from_dict(d, orient = 'index').transpose()\n",
        "\n",
        "  df['Prob to Guess, %'] = df['Prob to Guess, %'].astype(int)\n",
        "  df['Expected Value, $'] = df['Expected Value, $'].astype(int)\n",
        "  df['Correct Guesses, #'] = df['Correct Guesses, #'].astype(int).astype(str)\n",
        "\n",
        "  fig = px.line(\n",
        "    df,\n",
        "    x=\"Correct Guesses, #\",\n",
        "    y=\"Prob to Guess, %\",\n",
        "    title='Probability of Correct Guessed Games out of 10 weekly games',\n",
        "    text= 'Prob to Guess, %'\n",
        "    )\n",
        "  fig.update_traces(textposition=\"top center\")\n",
        "  fig.update_layout(height = 450, width = 650)\n",
        "\n",
        "  fig2 = px.bar(\n",
        "    df,\n",
        "    x=\"Correct Guesses, #\",\n",
        "    y=\"Expected Value, $\",\n",
        "    title='EV of Correct Guessed Games out of 10 weekly games',\n",
        "    text= 'Expected Value, $'\n",
        "    )\n",
        "  fig2.update_traces(textposition=\"outside\")\n",
        "  fig2.update_layout(height = 450, width = 650)\n",
        "  output = [fig.show(), fig2.show()]\n",
        "\n",
        "  return fig.show(), fig2.show()"
      ],
      "metadata": {
        "id": "l2BDf6KJqX4g"
      },
      "execution_count": 6,
      "outputs": []
    },
    {
      "cell_type": "code",
      "source": [
        "excpected_value_chart(entry_fee,game_count,\n",
        "                    p_draw_win, p_away_win,p_home_win,\n",
        "                    p_bet_draw, p_bet_away,p_bet_home,\n",
        "                    pay_draw, pay_away,pay_home, extra_payout)"
      ],
      "metadata": {
        "colab": {
          "base_uri": "https://localhost:8080/",
          "height": 1000
        },
        "id": "VPA1bh4QvxE8",
        "outputId": "c0750c17-d02d-4071-b7d1-3ae230f35ee2"
      },
      "execution_count": 7,
      "outputs": [
        {
          "output_type": "display_data",
          "data": {
            "text/html": [
              "<html>\n",
              "<head><meta charset=\"utf-8\" /></head>\n",
              "<body>\n",
              "    <div>            <script src=\"https://cdnjs.cloudflare.com/ajax/libs/mathjax/2.7.5/MathJax.js?config=TeX-AMS-MML_SVG\"></script><script type=\"text/javascript\">if (window.MathJax && window.MathJax.Hub && window.MathJax.Hub.Config) {window.MathJax.Hub.Config({SVG: {font: \"STIX-Web\"}});}</script>                <script type=\"text/javascript\">window.PlotlyConfig = {MathJaxConfig: 'local'};</script>\n",
              "        <script charset=\"utf-8\" src=\"https://cdn.plot.ly/plotly-2.24.1.min.js\"></script>                <div id=\"0a09c28f-f47e-47b8-a583-363c48ffa9ee\" class=\"plotly-graph-div\" style=\"height:450px; width:650px;\"></div>            <script type=\"text/javascript\">                                    window.PLOTLYENV=window.PLOTLYENV || {};                                    if (document.getElementById(\"0a09c28f-f47e-47b8-a583-363c48ffa9ee\")) {                    Plotly.newPlot(                        \"0a09c28f-f47e-47b8-a583-363c48ffa9ee\",                        [{\"hovertemplate\":\"Correct Guesses, #=%{x}\\u003cbr\\u003eProb to Guess, %=%{text}\\u003cextra\\u003e\\u003c\\u002fextra\\u003e\",\"legendgroup\":\"\",\"line\":{\"color\":\"#636efa\",\"dash\":\"solid\"},\"marker\":{\"symbol\":\"circle\"},\"mode\":\"lines+markers+text\",\"name\":\"\",\"orientation\":\"v\",\"showlegend\":false,\"text\":[1.0,8.0,18.0,25.0,23.0,14.0,6.0,1.0,0.0,0.0,0.0],\"x\":[\"0\",\"1\",\"2\",\"3\",\"4\",\"5\",\"6\",\"7\",\"8\",\"9\",\"10\"],\"xaxis\":\"x\",\"y\":[1,8,18,25,23,14,6,1,0,0,0],\"yaxis\":\"y\",\"type\":\"scatter\",\"textposition\":\"top center\"}],                        {\"template\":{\"data\":{\"histogram2dcontour\":[{\"type\":\"histogram2dcontour\",\"colorbar\":{\"outlinewidth\":0,\"ticks\":\"\"},\"colorscale\":[[0.0,\"#0d0887\"],[0.1111111111111111,\"#46039f\"],[0.2222222222222222,\"#7201a8\"],[0.3333333333333333,\"#9c179e\"],[0.4444444444444444,\"#bd3786\"],[0.5555555555555556,\"#d8576b\"],[0.6666666666666666,\"#ed7953\"],[0.7777777777777778,\"#fb9f3a\"],[0.8888888888888888,\"#fdca26\"],[1.0,\"#f0f921\"]]}],\"choropleth\":[{\"type\":\"choropleth\",\"colorbar\":{\"outlinewidth\":0,\"ticks\":\"\"}}],\"histogram2d\":[{\"type\":\"histogram2d\",\"colorbar\":{\"outlinewidth\":0,\"ticks\":\"\"},\"colorscale\":[[0.0,\"#0d0887\"],[0.1111111111111111,\"#46039f\"],[0.2222222222222222,\"#7201a8\"],[0.3333333333333333,\"#9c179e\"],[0.4444444444444444,\"#bd3786\"],[0.5555555555555556,\"#d8576b\"],[0.6666666666666666,\"#ed7953\"],[0.7777777777777778,\"#fb9f3a\"],[0.8888888888888888,\"#fdca26\"],[1.0,\"#f0f921\"]]}],\"heatmap\":[{\"type\":\"heatmap\",\"colorbar\":{\"outlinewidth\":0,\"ticks\":\"\"},\"colorscale\":[[0.0,\"#0d0887\"],[0.1111111111111111,\"#46039f\"],[0.2222222222222222,\"#7201a8\"],[0.3333333333333333,\"#9c179e\"],[0.4444444444444444,\"#bd3786\"],[0.5555555555555556,\"#d8576b\"],[0.6666666666666666,\"#ed7953\"],[0.7777777777777778,\"#fb9f3a\"],[0.8888888888888888,\"#fdca26\"],[1.0,\"#f0f921\"]]}],\"heatmapgl\":[{\"type\":\"heatmapgl\",\"colorbar\":{\"outlinewidth\":0,\"ticks\":\"\"},\"colorscale\":[[0.0,\"#0d0887\"],[0.1111111111111111,\"#46039f\"],[0.2222222222222222,\"#7201a8\"],[0.3333333333333333,\"#9c179e\"],[0.4444444444444444,\"#bd3786\"],[0.5555555555555556,\"#d8576b\"],[0.6666666666666666,\"#ed7953\"],[0.7777777777777778,\"#fb9f3a\"],[0.8888888888888888,\"#fdca26\"],[1.0,\"#f0f921\"]]}],\"contourcarpet\":[{\"type\":\"contourcarpet\",\"colorbar\":{\"outlinewidth\":0,\"ticks\":\"\"}}],\"contour\":[{\"type\":\"contour\",\"colorbar\":{\"outlinewidth\":0,\"ticks\":\"\"},\"colorscale\":[[0.0,\"#0d0887\"],[0.1111111111111111,\"#46039f\"],[0.2222222222222222,\"#7201a8\"],[0.3333333333333333,\"#9c179e\"],[0.4444444444444444,\"#bd3786\"],[0.5555555555555556,\"#d8576b\"],[0.6666666666666666,\"#ed7953\"],[0.7777777777777778,\"#fb9f3a\"],[0.8888888888888888,\"#fdca26\"],[1.0,\"#f0f921\"]]}],\"surface\":[{\"type\":\"surface\",\"colorbar\":{\"outlinewidth\":0,\"ticks\":\"\"},\"colorscale\":[[0.0,\"#0d0887\"],[0.1111111111111111,\"#46039f\"],[0.2222222222222222,\"#7201a8\"],[0.3333333333333333,\"#9c179e\"],[0.4444444444444444,\"#bd3786\"],[0.5555555555555556,\"#d8576b\"],[0.6666666666666666,\"#ed7953\"],[0.7777777777777778,\"#fb9f3a\"],[0.8888888888888888,\"#fdca26\"],[1.0,\"#f0f921\"]]}],\"mesh3d\":[{\"type\":\"mesh3d\",\"colorbar\":{\"outlinewidth\":0,\"ticks\":\"\"}}],\"scatter\":[{\"fillpattern\":{\"fillmode\":\"overlay\",\"size\":10,\"solidity\":0.2},\"type\":\"scatter\"}],\"parcoords\":[{\"type\":\"parcoords\",\"line\":{\"colorbar\":{\"outlinewidth\":0,\"ticks\":\"\"}}}],\"scatterpolargl\":[{\"type\":\"scatterpolargl\",\"marker\":{\"colorbar\":{\"outlinewidth\":0,\"ticks\":\"\"}}}],\"bar\":[{\"error_x\":{\"color\":\"#2a3f5f\"},\"error_y\":{\"color\":\"#2a3f5f\"},\"marker\":{\"line\":{\"color\":\"#E5ECF6\",\"width\":0.5},\"pattern\":{\"fillmode\":\"overlay\",\"size\":10,\"solidity\":0.2}},\"type\":\"bar\"}],\"scattergeo\":[{\"type\":\"scattergeo\",\"marker\":{\"colorbar\":{\"outlinewidth\":0,\"ticks\":\"\"}}}],\"scatterpolar\":[{\"type\":\"scatterpolar\",\"marker\":{\"colorbar\":{\"outlinewidth\":0,\"ticks\":\"\"}}}],\"histogram\":[{\"marker\":{\"pattern\":{\"fillmode\":\"overlay\",\"size\":10,\"solidity\":0.2}},\"type\":\"histogram\"}],\"scattergl\":[{\"type\":\"scattergl\",\"marker\":{\"colorbar\":{\"outlinewidth\":0,\"ticks\":\"\"}}}],\"scatter3d\":[{\"type\":\"scatter3d\",\"line\":{\"colorbar\":{\"outlinewidth\":0,\"ticks\":\"\"}},\"marker\":{\"colorbar\":{\"outlinewidth\":0,\"ticks\":\"\"}}}],\"scattermapbox\":[{\"type\":\"scattermapbox\",\"marker\":{\"colorbar\":{\"outlinewidth\":0,\"ticks\":\"\"}}}],\"scatterternary\":[{\"type\":\"scatterternary\",\"marker\":{\"colorbar\":{\"outlinewidth\":0,\"ticks\":\"\"}}}],\"scattercarpet\":[{\"type\":\"scattercarpet\",\"marker\":{\"colorbar\":{\"outlinewidth\":0,\"ticks\":\"\"}}}],\"carpet\":[{\"aaxis\":{\"endlinecolor\":\"#2a3f5f\",\"gridcolor\":\"white\",\"linecolor\":\"white\",\"minorgridcolor\":\"white\",\"startlinecolor\":\"#2a3f5f\"},\"baxis\":{\"endlinecolor\":\"#2a3f5f\",\"gridcolor\":\"white\",\"linecolor\":\"white\",\"minorgridcolor\":\"white\",\"startlinecolor\":\"#2a3f5f\"},\"type\":\"carpet\"}],\"table\":[{\"cells\":{\"fill\":{\"color\":\"#EBF0F8\"},\"line\":{\"color\":\"white\"}},\"header\":{\"fill\":{\"color\":\"#C8D4E3\"},\"line\":{\"color\":\"white\"}},\"type\":\"table\"}],\"barpolar\":[{\"marker\":{\"line\":{\"color\":\"#E5ECF6\",\"width\":0.5},\"pattern\":{\"fillmode\":\"overlay\",\"size\":10,\"solidity\":0.2}},\"type\":\"barpolar\"}],\"pie\":[{\"automargin\":true,\"type\":\"pie\"}]},\"layout\":{\"autotypenumbers\":\"strict\",\"colorway\":[\"#636efa\",\"#EF553B\",\"#00cc96\",\"#ab63fa\",\"#FFA15A\",\"#19d3f3\",\"#FF6692\",\"#B6E880\",\"#FF97FF\",\"#FECB52\"],\"font\":{\"color\":\"#2a3f5f\"},\"hovermode\":\"closest\",\"hoverlabel\":{\"align\":\"left\"},\"paper_bgcolor\":\"white\",\"plot_bgcolor\":\"#E5ECF6\",\"polar\":{\"bgcolor\":\"#E5ECF6\",\"angularaxis\":{\"gridcolor\":\"white\",\"linecolor\":\"white\",\"ticks\":\"\"},\"radialaxis\":{\"gridcolor\":\"white\",\"linecolor\":\"white\",\"ticks\":\"\"}},\"ternary\":{\"bgcolor\":\"#E5ECF6\",\"aaxis\":{\"gridcolor\":\"white\",\"linecolor\":\"white\",\"ticks\":\"\"},\"baxis\":{\"gridcolor\":\"white\",\"linecolor\":\"white\",\"ticks\":\"\"},\"caxis\":{\"gridcolor\":\"white\",\"linecolor\":\"white\",\"ticks\":\"\"}},\"coloraxis\":{\"colorbar\":{\"outlinewidth\":0,\"ticks\":\"\"}},\"colorscale\":{\"sequential\":[[0.0,\"#0d0887\"],[0.1111111111111111,\"#46039f\"],[0.2222222222222222,\"#7201a8\"],[0.3333333333333333,\"#9c179e\"],[0.4444444444444444,\"#bd3786\"],[0.5555555555555556,\"#d8576b\"],[0.6666666666666666,\"#ed7953\"],[0.7777777777777778,\"#fb9f3a\"],[0.8888888888888888,\"#fdca26\"],[1.0,\"#f0f921\"]],\"sequentialminus\":[[0.0,\"#0d0887\"],[0.1111111111111111,\"#46039f\"],[0.2222222222222222,\"#7201a8\"],[0.3333333333333333,\"#9c179e\"],[0.4444444444444444,\"#bd3786\"],[0.5555555555555556,\"#d8576b\"],[0.6666666666666666,\"#ed7953\"],[0.7777777777777778,\"#fb9f3a\"],[0.8888888888888888,\"#fdca26\"],[1.0,\"#f0f921\"]],\"diverging\":[[0,\"#8e0152\"],[0.1,\"#c51b7d\"],[0.2,\"#de77ae\"],[0.3,\"#f1b6da\"],[0.4,\"#fde0ef\"],[0.5,\"#f7f7f7\"],[0.6,\"#e6f5d0\"],[0.7,\"#b8e186\"],[0.8,\"#7fbc41\"],[0.9,\"#4d9221\"],[1,\"#276419\"]]},\"xaxis\":{\"gridcolor\":\"white\",\"linecolor\":\"white\",\"ticks\":\"\",\"title\":{\"standoff\":15},\"zerolinecolor\":\"white\",\"automargin\":true,\"zerolinewidth\":2},\"yaxis\":{\"gridcolor\":\"white\",\"linecolor\":\"white\",\"ticks\":\"\",\"title\":{\"standoff\":15},\"zerolinecolor\":\"white\",\"automargin\":true,\"zerolinewidth\":2},\"scene\":{\"xaxis\":{\"backgroundcolor\":\"#E5ECF6\",\"gridcolor\":\"white\",\"linecolor\":\"white\",\"showbackground\":true,\"ticks\":\"\",\"zerolinecolor\":\"white\",\"gridwidth\":2},\"yaxis\":{\"backgroundcolor\":\"#E5ECF6\",\"gridcolor\":\"white\",\"linecolor\":\"white\",\"showbackground\":true,\"ticks\":\"\",\"zerolinecolor\":\"white\",\"gridwidth\":2},\"zaxis\":{\"backgroundcolor\":\"#E5ECF6\",\"gridcolor\":\"white\",\"linecolor\":\"white\",\"showbackground\":true,\"ticks\":\"\",\"zerolinecolor\":\"white\",\"gridwidth\":2}},\"shapedefaults\":{\"line\":{\"color\":\"#2a3f5f\"}},\"annotationdefaults\":{\"arrowcolor\":\"#2a3f5f\",\"arrowhead\":0,\"arrowwidth\":1},\"geo\":{\"bgcolor\":\"white\",\"landcolor\":\"#E5ECF6\",\"subunitcolor\":\"white\",\"showland\":true,\"showlakes\":true,\"lakecolor\":\"white\"},\"title\":{\"x\":0.05},\"mapbox\":{\"style\":\"light\"}}},\"xaxis\":{\"anchor\":\"y\",\"domain\":[0.0,1.0],\"title\":{\"text\":\"Correct Guesses, #\"}},\"yaxis\":{\"anchor\":\"x\",\"domain\":[0.0,1.0],\"title\":{\"text\":\"Prob to Guess, %\"}},\"legend\":{\"tracegroupgap\":0},\"title\":{\"text\":\"Probability of Correct Guessed Games out of 10 weekly games\"},\"height\":450,\"width\":650},                        {\"responsive\": true}                    ).then(function(){\n",
              "                            \n",
              "var gd = document.getElementById('0a09c28f-f47e-47b8-a583-363c48ffa9ee');\n",
              "var x = new MutationObserver(function (mutations, observer) {{\n",
              "        var display = window.getComputedStyle(gd).display;\n",
              "        if (!display || display === 'none') {{\n",
              "            console.log([gd, 'removed!']);\n",
              "            Plotly.purge(gd);\n",
              "            observer.disconnect();\n",
              "        }}\n",
              "}});\n",
              "\n",
              "// Listen for the removal of the full notebook cells\n",
              "var notebookContainer = gd.closest('#notebook-container');\n",
              "if (notebookContainer) {{\n",
              "    x.observe(notebookContainer, {childList: true});\n",
              "}}\n",
              "\n",
              "// Listen for the clearing of the current output cell\n",
              "var outputEl = gd.closest('.output');\n",
              "if (outputEl) {{\n",
              "    x.observe(outputEl, {childList: true});\n",
              "}}\n",
              "\n",
              "                        })                };                            </script>        </div>\n",
              "</body>\n",
              "</html>"
            ]
          },
          "metadata": {}
        },
        {
          "output_type": "display_data",
          "data": {
            "text/html": [
              "<html>\n",
              "<head><meta charset=\"utf-8\" /></head>\n",
              "<body>\n",
              "    <div>            <script src=\"https://cdnjs.cloudflare.com/ajax/libs/mathjax/2.7.5/MathJax.js?config=TeX-AMS-MML_SVG\"></script><script type=\"text/javascript\">if (window.MathJax && window.MathJax.Hub && window.MathJax.Hub.Config) {window.MathJax.Hub.Config({SVG: {font: \"STIX-Web\"}});}</script>                <script type=\"text/javascript\">window.PlotlyConfig = {MathJaxConfig: 'local'};</script>\n",
              "        <script charset=\"utf-8\" src=\"https://cdn.plot.ly/plotly-2.24.1.min.js\"></script>                <div id=\"41ed5733-a3cd-439f-95c6-fe7de9e8a4fd\" class=\"plotly-graph-div\" style=\"height:450px; width:650px;\"></div>            <script type=\"text/javascript\">                                    window.PLOTLYENV=window.PLOTLYENV || {};                                    if (document.getElementById(\"41ed5733-a3cd-439f-95c6-fe7de9e8a4fd\")) {                    Plotly.newPlot(                        \"41ed5733-a3cd-439f-95c6-fe7de9e8a4fd\",                        [{\"alignmentgroup\":\"True\",\"hovertemplate\":\"Correct Guesses, #=%{x}\\u003cbr\\u003eExpected Value, $=%{text}\\u003cextra\\u003e\\u003c\\u002fextra\\u003e\",\"legendgroup\":\"\",\"marker\":{\"color\":\"#636efa\",\"pattern\":{\"shape\":\"\"}},\"name\":\"\",\"offsetgroup\":\"\",\"orientation\":\"v\",\"showlegend\":false,\"text\":[-20.0,-18.0,-10.0,4.0,23.0,37.0,46.0,50.0,51.0,55.0,56.0],\"textposition\":\"outside\",\"x\":[\"0\",\"1\",\"2\",\"3\",\"4\",\"5\",\"6\",\"7\",\"8\",\"9\",\"10\"],\"xaxis\":\"x\",\"y\":[-20,-18,-10,4,23,37,46,50,51,55,56],\"yaxis\":\"y\",\"type\":\"bar\"}],                        {\"template\":{\"data\":{\"histogram2dcontour\":[{\"type\":\"histogram2dcontour\",\"colorbar\":{\"outlinewidth\":0,\"ticks\":\"\"},\"colorscale\":[[0.0,\"#0d0887\"],[0.1111111111111111,\"#46039f\"],[0.2222222222222222,\"#7201a8\"],[0.3333333333333333,\"#9c179e\"],[0.4444444444444444,\"#bd3786\"],[0.5555555555555556,\"#d8576b\"],[0.6666666666666666,\"#ed7953\"],[0.7777777777777778,\"#fb9f3a\"],[0.8888888888888888,\"#fdca26\"],[1.0,\"#f0f921\"]]}],\"choropleth\":[{\"type\":\"choropleth\",\"colorbar\":{\"outlinewidth\":0,\"ticks\":\"\"}}],\"histogram2d\":[{\"type\":\"histogram2d\",\"colorbar\":{\"outlinewidth\":0,\"ticks\":\"\"},\"colorscale\":[[0.0,\"#0d0887\"],[0.1111111111111111,\"#46039f\"],[0.2222222222222222,\"#7201a8\"],[0.3333333333333333,\"#9c179e\"],[0.4444444444444444,\"#bd3786\"],[0.5555555555555556,\"#d8576b\"],[0.6666666666666666,\"#ed7953\"],[0.7777777777777778,\"#fb9f3a\"],[0.8888888888888888,\"#fdca26\"],[1.0,\"#f0f921\"]]}],\"heatmap\":[{\"type\":\"heatmap\",\"colorbar\":{\"outlinewidth\":0,\"ticks\":\"\"},\"colorscale\":[[0.0,\"#0d0887\"],[0.1111111111111111,\"#46039f\"],[0.2222222222222222,\"#7201a8\"],[0.3333333333333333,\"#9c179e\"],[0.4444444444444444,\"#bd3786\"],[0.5555555555555556,\"#d8576b\"],[0.6666666666666666,\"#ed7953\"],[0.7777777777777778,\"#fb9f3a\"],[0.8888888888888888,\"#fdca26\"],[1.0,\"#f0f921\"]]}],\"heatmapgl\":[{\"type\":\"heatmapgl\",\"colorbar\":{\"outlinewidth\":0,\"ticks\":\"\"},\"colorscale\":[[0.0,\"#0d0887\"],[0.1111111111111111,\"#46039f\"],[0.2222222222222222,\"#7201a8\"],[0.3333333333333333,\"#9c179e\"],[0.4444444444444444,\"#bd3786\"],[0.5555555555555556,\"#d8576b\"],[0.6666666666666666,\"#ed7953\"],[0.7777777777777778,\"#fb9f3a\"],[0.8888888888888888,\"#fdca26\"],[1.0,\"#f0f921\"]]}],\"contourcarpet\":[{\"type\":\"contourcarpet\",\"colorbar\":{\"outlinewidth\":0,\"ticks\":\"\"}}],\"contour\":[{\"type\":\"contour\",\"colorbar\":{\"outlinewidth\":0,\"ticks\":\"\"},\"colorscale\":[[0.0,\"#0d0887\"],[0.1111111111111111,\"#46039f\"],[0.2222222222222222,\"#7201a8\"],[0.3333333333333333,\"#9c179e\"],[0.4444444444444444,\"#bd3786\"],[0.5555555555555556,\"#d8576b\"],[0.6666666666666666,\"#ed7953\"],[0.7777777777777778,\"#fb9f3a\"],[0.8888888888888888,\"#fdca26\"],[1.0,\"#f0f921\"]]}],\"surface\":[{\"type\":\"surface\",\"colorbar\":{\"outlinewidth\":0,\"ticks\":\"\"},\"colorscale\":[[0.0,\"#0d0887\"],[0.1111111111111111,\"#46039f\"],[0.2222222222222222,\"#7201a8\"],[0.3333333333333333,\"#9c179e\"],[0.4444444444444444,\"#bd3786\"],[0.5555555555555556,\"#d8576b\"],[0.6666666666666666,\"#ed7953\"],[0.7777777777777778,\"#fb9f3a\"],[0.8888888888888888,\"#fdca26\"],[1.0,\"#f0f921\"]]}],\"mesh3d\":[{\"type\":\"mesh3d\",\"colorbar\":{\"outlinewidth\":0,\"ticks\":\"\"}}],\"scatter\":[{\"fillpattern\":{\"fillmode\":\"overlay\",\"size\":10,\"solidity\":0.2},\"type\":\"scatter\"}],\"parcoords\":[{\"type\":\"parcoords\",\"line\":{\"colorbar\":{\"outlinewidth\":0,\"ticks\":\"\"}}}],\"scatterpolargl\":[{\"type\":\"scatterpolargl\",\"marker\":{\"colorbar\":{\"outlinewidth\":0,\"ticks\":\"\"}}}],\"bar\":[{\"error_x\":{\"color\":\"#2a3f5f\"},\"error_y\":{\"color\":\"#2a3f5f\"},\"marker\":{\"line\":{\"color\":\"#E5ECF6\",\"width\":0.5},\"pattern\":{\"fillmode\":\"overlay\",\"size\":10,\"solidity\":0.2}},\"type\":\"bar\"}],\"scattergeo\":[{\"type\":\"scattergeo\",\"marker\":{\"colorbar\":{\"outlinewidth\":0,\"ticks\":\"\"}}}],\"scatterpolar\":[{\"type\":\"scatterpolar\",\"marker\":{\"colorbar\":{\"outlinewidth\":0,\"ticks\":\"\"}}}],\"histogram\":[{\"marker\":{\"pattern\":{\"fillmode\":\"overlay\",\"size\":10,\"solidity\":0.2}},\"type\":\"histogram\"}],\"scattergl\":[{\"type\":\"scattergl\",\"marker\":{\"colorbar\":{\"outlinewidth\":0,\"ticks\":\"\"}}}],\"scatter3d\":[{\"type\":\"scatter3d\",\"line\":{\"colorbar\":{\"outlinewidth\":0,\"ticks\":\"\"}},\"marker\":{\"colorbar\":{\"outlinewidth\":0,\"ticks\":\"\"}}}],\"scattermapbox\":[{\"type\":\"scattermapbox\",\"marker\":{\"colorbar\":{\"outlinewidth\":0,\"ticks\":\"\"}}}],\"scatterternary\":[{\"type\":\"scatterternary\",\"marker\":{\"colorbar\":{\"outlinewidth\":0,\"ticks\":\"\"}}}],\"scattercarpet\":[{\"type\":\"scattercarpet\",\"marker\":{\"colorbar\":{\"outlinewidth\":0,\"ticks\":\"\"}}}],\"carpet\":[{\"aaxis\":{\"endlinecolor\":\"#2a3f5f\",\"gridcolor\":\"white\",\"linecolor\":\"white\",\"minorgridcolor\":\"white\",\"startlinecolor\":\"#2a3f5f\"},\"baxis\":{\"endlinecolor\":\"#2a3f5f\",\"gridcolor\":\"white\",\"linecolor\":\"white\",\"minorgridcolor\":\"white\",\"startlinecolor\":\"#2a3f5f\"},\"type\":\"carpet\"}],\"table\":[{\"cells\":{\"fill\":{\"color\":\"#EBF0F8\"},\"line\":{\"color\":\"white\"}},\"header\":{\"fill\":{\"color\":\"#C8D4E3\"},\"line\":{\"color\":\"white\"}},\"type\":\"table\"}],\"barpolar\":[{\"marker\":{\"line\":{\"color\":\"#E5ECF6\",\"width\":0.5},\"pattern\":{\"fillmode\":\"overlay\",\"size\":10,\"solidity\":0.2}},\"type\":\"barpolar\"}],\"pie\":[{\"automargin\":true,\"type\":\"pie\"}]},\"layout\":{\"autotypenumbers\":\"strict\",\"colorway\":[\"#636efa\",\"#EF553B\",\"#00cc96\",\"#ab63fa\",\"#FFA15A\",\"#19d3f3\",\"#FF6692\",\"#B6E880\",\"#FF97FF\",\"#FECB52\"],\"font\":{\"color\":\"#2a3f5f\"},\"hovermode\":\"closest\",\"hoverlabel\":{\"align\":\"left\"},\"paper_bgcolor\":\"white\",\"plot_bgcolor\":\"#E5ECF6\",\"polar\":{\"bgcolor\":\"#E5ECF6\",\"angularaxis\":{\"gridcolor\":\"white\",\"linecolor\":\"white\",\"ticks\":\"\"},\"radialaxis\":{\"gridcolor\":\"white\",\"linecolor\":\"white\",\"ticks\":\"\"}},\"ternary\":{\"bgcolor\":\"#E5ECF6\",\"aaxis\":{\"gridcolor\":\"white\",\"linecolor\":\"white\",\"ticks\":\"\"},\"baxis\":{\"gridcolor\":\"white\",\"linecolor\":\"white\",\"ticks\":\"\"},\"caxis\":{\"gridcolor\":\"white\",\"linecolor\":\"white\",\"ticks\":\"\"}},\"coloraxis\":{\"colorbar\":{\"outlinewidth\":0,\"ticks\":\"\"}},\"colorscale\":{\"sequential\":[[0.0,\"#0d0887\"],[0.1111111111111111,\"#46039f\"],[0.2222222222222222,\"#7201a8\"],[0.3333333333333333,\"#9c179e\"],[0.4444444444444444,\"#bd3786\"],[0.5555555555555556,\"#d8576b\"],[0.6666666666666666,\"#ed7953\"],[0.7777777777777778,\"#fb9f3a\"],[0.8888888888888888,\"#fdca26\"],[1.0,\"#f0f921\"]],\"sequentialminus\":[[0.0,\"#0d0887\"],[0.1111111111111111,\"#46039f\"],[0.2222222222222222,\"#7201a8\"],[0.3333333333333333,\"#9c179e\"],[0.4444444444444444,\"#bd3786\"],[0.5555555555555556,\"#d8576b\"],[0.6666666666666666,\"#ed7953\"],[0.7777777777777778,\"#fb9f3a\"],[0.8888888888888888,\"#fdca26\"],[1.0,\"#f0f921\"]],\"diverging\":[[0,\"#8e0152\"],[0.1,\"#c51b7d\"],[0.2,\"#de77ae\"],[0.3,\"#f1b6da\"],[0.4,\"#fde0ef\"],[0.5,\"#f7f7f7\"],[0.6,\"#e6f5d0\"],[0.7,\"#b8e186\"],[0.8,\"#7fbc41\"],[0.9,\"#4d9221\"],[1,\"#276419\"]]},\"xaxis\":{\"gridcolor\":\"white\",\"linecolor\":\"white\",\"ticks\":\"\",\"title\":{\"standoff\":15},\"zerolinecolor\":\"white\",\"automargin\":true,\"zerolinewidth\":2},\"yaxis\":{\"gridcolor\":\"white\",\"linecolor\":\"white\",\"ticks\":\"\",\"title\":{\"standoff\":15},\"zerolinecolor\":\"white\",\"automargin\":true,\"zerolinewidth\":2},\"scene\":{\"xaxis\":{\"backgroundcolor\":\"#E5ECF6\",\"gridcolor\":\"white\",\"linecolor\":\"white\",\"showbackground\":true,\"ticks\":\"\",\"zerolinecolor\":\"white\",\"gridwidth\":2},\"yaxis\":{\"backgroundcolor\":\"#E5ECF6\",\"gridcolor\":\"white\",\"linecolor\":\"white\",\"showbackground\":true,\"ticks\":\"\",\"zerolinecolor\":\"white\",\"gridwidth\":2},\"zaxis\":{\"backgroundcolor\":\"#E5ECF6\",\"gridcolor\":\"white\",\"linecolor\":\"white\",\"showbackground\":true,\"ticks\":\"\",\"zerolinecolor\":\"white\",\"gridwidth\":2}},\"shapedefaults\":{\"line\":{\"color\":\"#2a3f5f\"}},\"annotationdefaults\":{\"arrowcolor\":\"#2a3f5f\",\"arrowhead\":0,\"arrowwidth\":1},\"geo\":{\"bgcolor\":\"white\",\"landcolor\":\"#E5ECF6\",\"subunitcolor\":\"white\",\"showland\":true,\"showlakes\":true,\"lakecolor\":\"white\"},\"title\":{\"x\":0.05},\"mapbox\":{\"style\":\"light\"}}},\"xaxis\":{\"anchor\":\"y\",\"domain\":[0.0,1.0],\"title\":{\"text\":\"Correct Guesses, #\"}},\"yaxis\":{\"anchor\":\"x\",\"domain\":[0.0,1.0],\"title\":{\"text\":\"Expected Value, $\"}},\"legend\":{\"tracegroupgap\":0},\"title\":{\"text\":\"EV of Correct Guessed Games out of 10 weekly games\"},\"barmode\":\"relative\",\"height\":450,\"width\":650},                        {\"responsive\": true}                    ).then(function(){\n",
              "                            \n",
              "var gd = document.getElementById('41ed5733-a3cd-439f-95c6-fe7de9e8a4fd');\n",
              "var x = new MutationObserver(function (mutations, observer) {{\n",
              "        var display = window.getComputedStyle(gd).display;\n",
              "        if (!display || display === 'none') {{\n",
              "            console.log([gd, 'removed!']);\n",
              "            Plotly.purge(gd);\n",
              "            observer.disconnect();\n",
              "        }}\n",
              "}});\n",
              "\n",
              "// Listen for the removal of the full notebook cells\n",
              "var notebookContainer = gd.closest('#notebook-container');\n",
              "if (notebookContainer) {{\n",
              "    x.observe(notebookContainer, {childList: true});\n",
              "}}\n",
              "\n",
              "// Listen for the clearing of the current output cell\n",
              "var outputEl = gd.closest('.output');\n",
              "if (outputEl) {{\n",
              "    x.observe(outputEl, {childList: true});\n",
              "}}\n",
              "\n",
              "                        })                };                            </script>        </div>\n",
              "</body>\n",
              "</html>"
            ]
          },
          "metadata": {}
        },
        {
          "output_type": "display_data",
          "data": {
            "text/html": [
              "<html>\n",
              "<head><meta charset=\"utf-8\" /></head>\n",
              "<body>\n",
              "    <div>            <script src=\"https://cdnjs.cloudflare.com/ajax/libs/mathjax/2.7.5/MathJax.js?config=TeX-AMS-MML_SVG\"></script><script type=\"text/javascript\">if (window.MathJax && window.MathJax.Hub && window.MathJax.Hub.Config) {window.MathJax.Hub.Config({SVG: {font: \"STIX-Web\"}});}</script>                <script type=\"text/javascript\">window.PlotlyConfig = {MathJaxConfig: 'local'};</script>\n",
              "        <script charset=\"utf-8\" src=\"https://cdn.plot.ly/plotly-2.24.1.min.js\"></script>                <div id=\"6102faec-4afb-4a4f-b397-6cf0541cb4d7\" class=\"plotly-graph-div\" style=\"height:450px; width:650px;\"></div>            <script type=\"text/javascript\">                                    window.PLOTLYENV=window.PLOTLYENV || {};                                    if (document.getElementById(\"6102faec-4afb-4a4f-b397-6cf0541cb4d7\")) {                    Plotly.newPlot(                        \"6102faec-4afb-4a4f-b397-6cf0541cb4d7\",                        [{\"hovertemplate\":\"Correct Guesses, #=%{x}\\u003cbr\\u003eProb to Guess, %=%{text}\\u003cextra\\u003e\\u003c\\u002fextra\\u003e\",\"legendgroup\":\"\",\"line\":{\"color\":\"#636efa\",\"dash\":\"solid\"},\"marker\":{\"symbol\":\"circle\"},\"mode\":\"lines+markers+text\",\"name\":\"\",\"orientation\":\"v\",\"showlegend\":false,\"text\":[1.0,8.0,18.0,25.0,23.0,14.0,6.0,1.0,0.0,0.0,0.0],\"x\":[\"0\",\"1\",\"2\",\"3\",\"4\",\"5\",\"6\",\"7\",\"8\",\"9\",\"10\"],\"xaxis\":\"x\",\"y\":[1,8,18,25,23,14,6,1,0,0,0],\"yaxis\":\"y\",\"type\":\"scatter\",\"textposition\":\"top center\"}],                        {\"template\":{\"data\":{\"histogram2dcontour\":[{\"type\":\"histogram2dcontour\",\"colorbar\":{\"outlinewidth\":0,\"ticks\":\"\"},\"colorscale\":[[0.0,\"#0d0887\"],[0.1111111111111111,\"#46039f\"],[0.2222222222222222,\"#7201a8\"],[0.3333333333333333,\"#9c179e\"],[0.4444444444444444,\"#bd3786\"],[0.5555555555555556,\"#d8576b\"],[0.6666666666666666,\"#ed7953\"],[0.7777777777777778,\"#fb9f3a\"],[0.8888888888888888,\"#fdca26\"],[1.0,\"#f0f921\"]]}],\"choropleth\":[{\"type\":\"choropleth\",\"colorbar\":{\"outlinewidth\":0,\"ticks\":\"\"}}],\"histogram2d\":[{\"type\":\"histogram2d\",\"colorbar\":{\"outlinewidth\":0,\"ticks\":\"\"},\"colorscale\":[[0.0,\"#0d0887\"],[0.1111111111111111,\"#46039f\"],[0.2222222222222222,\"#7201a8\"],[0.3333333333333333,\"#9c179e\"],[0.4444444444444444,\"#bd3786\"],[0.5555555555555556,\"#d8576b\"],[0.6666666666666666,\"#ed7953\"],[0.7777777777777778,\"#fb9f3a\"],[0.8888888888888888,\"#fdca26\"],[1.0,\"#f0f921\"]]}],\"heatmap\":[{\"type\":\"heatmap\",\"colorbar\":{\"outlinewidth\":0,\"ticks\":\"\"},\"colorscale\":[[0.0,\"#0d0887\"],[0.1111111111111111,\"#46039f\"],[0.2222222222222222,\"#7201a8\"],[0.3333333333333333,\"#9c179e\"],[0.4444444444444444,\"#bd3786\"],[0.5555555555555556,\"#d8576b\"],[0.6666666666666666,\"#ed7953\"],[0.7777777777777778,\"#fb9f3a\"],[0.8888888888888888,\"#fdca26\"],[1.0,\"#f0f921\"]]}],\"heatmapgl\":[{\"type\":\"heatmapgl\",\"colorbar\":{\"outlinewidth\":0,\"ticks\":\"\"},\"colorscale\":[[0.0,\"#0d0887\"],[0.1111111111111111,\"#46039f\"],[0.2222222222222222,\"#7201a8\"],[0.3333333333333333,\"#9c179e\"],[0.4444444444444444,\"#bd3786\"],[0.5555555555555556,\"#d8576b\"],[0.6666666666666666,\"#ed7953\"],[0.7777777777777778,\"#fb9f3a\"],[0.8888888888888888,\"#fdca26\"],[1.0,\"#f0f921\"]]}],\"contourcarpet\":[{\"type\":\"contourcarpet\",\"colorbar\":{\"outlinewidth\":0,\"ticks\":\"\"}}],\"contour\":[{\"type\":\"contour\",\"colorbar\":{\"outlinewidth\":0,\"ticks\":\"\"},\"colorscale\":[[0.0,\"#0d0887\"],[0.1111111111111111,\"#46039f\"],[0.2222222222222222,\"#7201a8\"],[0.3333333333333333,\"#9c179e\"],[0.4444444444444444,\"#bd3786\"],[0.5555555555555556,\"#d8576b\"],[0.6666666666666666,\"#ed7953\"],[0.7777777777777778,\"#fb9f3a\"],[0.8888888888888888,\"#fdca26\"],[1.0,\"#f0f921\"]]}],\"surface\":[{\"type\":\"surface\",\"colorbar\":{\"outlinewidth\":0,\"ticks\":\"\"},\"colorscale\":[[0.0,\"#0d0887\"],[0.1111111111111111,\"#46039f\"],[0.2222222222222222,\"#7201a8\"],[0.3333333333333333,\"#9c179e\"],[0.4444444444444444,\"#bd3786\"],[0.5555555555555556,\"#d8576b\"],[0.6666666666666666,\"#ed7953\"],[0.7777777777777778,\"#fb9f3a\"],[0.8888888888888888,\"#fdca26\"],[1.0,\"#f0f921\"]]}],\"mesh3d\":[{\"type\":\"mesh3d\",\"colorbar\":{\"outlinewidth\":0,\"ticks\":\"\"}}],\"scatter\":[{\"fillpattern\":{\"fillmode\":\"overlay\",\"size\":10,\"solidity\":0.2},\"type\":\"scatter\"}],\"parcoords\":[{\"type\":\"parcoords\",\"line\":{\"colorbar\":{\"outlinewidth\":0,\"ticks\":\"\"}}}],\"scatterpolargl\":[{\"type\":\"scatterpolargl\",\"marker\":{\"colorbar\":{\"outlinewidth\":0,\"ticks\":\"\"}}}],\"bar\":[{\"error_x\":{\"color\":\"#2a3f5f\"},\"error_y\":{\"color\":\"#2a3f5f\"},\"marker\":{\"line\":{\"color\":\"#E5ECF6\",\"width\":0.5},\"pattern\":{\"fillmode\":\"overlay\",\"size\":10,\"solidity\":0.2}},\"type\":\"bar\"}],\"scattergeo\":[{\"type\":\"scattergeo\",\"marker\":{\"colorbar\":{\"outlinewidth\":0,\"ticks\":\"\"}}}],\"scatterpolar\":[{\"type\":\"scatterpolar\",\"marker\":{\"colorbar\":{\"outlinewidth\":0,\"ticks\":\"\"}}}],\"histogram\":[{\"marker\":{\"pattern\":{\"fillmode\":\"overlay\",\"size\":10,\"solidity\":0.2}},\"type\":\"histogram\"}],\"scattergl\":[{\"type\":\"scattergl\",\"marker\":{\"colorbar\":{\"outlinewidth\":0,\"ticks\":\"\"}}}],\"scatter3d\":[{\"type\":\"scatter3d\",\"line\":{\"colorbar\":{\"outlinewidth\":0,\"ticks\":\"\"}},\"marker\":{\"colorbar\":{\"outlinewidth\":0,\"ticks\":\"\"}}}],\"scattermapbox\":[{\"type\":\"scattermapbox\",\"marker\":{\"colorbar\":{\"outlinewidth\":0,\"ticks\":\"\"}}}],\"scatterternary\":[{\"type\":\"scatterternary\",\"marker\":{\"colorbar\":{\"outlinewidth\":0,\"ticks\":\"\"}}}],\"scattercarpet\":[{\"type\":\"scattercarpet\",\"marker\":{\"colorbar\":{\"outlinewidth\":0,\"ticks\":\"\"}}}],\"carpet\":[{\"aaxis\":{\"endlinecolor\":\"#2a3f5f\",\"gridcolor\":\"white\",\"linecolor\":\"white\",\"minorgridcolor\":\"white\",\"startlinecolor\":\"#2a3f5f\"},\"baxis\":{\"endlinecolor\":\"#2a3f5f\",\"gridcolor\":\"white\",\"linecolor\":\"white\",\"minorgridcolor\":\"white\",\"startlinecolor\":\"#2a3f5f\"},\"type\":\"carpet\"}],\"table\":[{\"cells\":{\"fill\":{\"color\":\"#EBF0F8\"},\"line\":{\"color\":\"white\"}},\"header\":{\"fill\":{\"color\":\"#C8D4E3\"},\"line\":{\"color\":\"white\"}},\"type\":\"table\"}],\"barpolar\":[{\"marker\":{\"line\":{\"color\":\"#E5ECF6\",\"width\":0.5},\"pattern\":{\"fillmode\":\"overlay\",\"size\":10,\"solidity\":0.2}},\"type\":\"barpolar\"}],\"pie\":[{\"automargin\":true,\"type\":\"pie\"}]},\"layout\":{\"autotypenumbers\":\"strict\",\"colorway\":[\"#636efa\",\"#EF553B\",\"#00cc96\",\"#ab63fa\",\"#FFA15A\",\"#19d3f3\",\"#FF6692\",\"#B6E880\",\"#FF97FF\",\"#FECB52\"],\"font\":{\"color\":\"#2a3f5f\"},\"hovermode\":\"closest\",\"hoverlabel\":{\"align\":\"left\"},\"paper_bgcolor\":\"white\",\"plot_bgcolor\":\"#E5ECF6\",\"polar\":{\"bgcolor\":\"#E5ECF6\",\"angularaxis\":{\"gridcolor\":\"white\",\"linecolor\":\"white\",\"ticks\":\"\"},\"radialaxis\":{\"gridcolor\":\"white\",\"linecolor\":\"white\",\"ticks\":\"\"}},\"ternary\":{\"bgcolor\":\"#E5ECF6\",\"aaxis\":{\"gridcolor\":\"white\",\"linecolor\":\"white\",\"ticks\":\"\"},\"baxis\":{\"gridcolor\":\"white\",\"linecolor\":\"white\",\"ticks\":\"\"},\"caxis\":{\"gridcolor\":\"white\",\"linecolor\":\"white\",\"ticks\":\"\"}},\"coloraxis\":{\"colorbar\":{\"outlinewidth\":0,\"ticks\":\"\"}},\"colorscale\":{\"sequential\":[[0.0,\"#0d0887\"],[0.1111111111111111,\"#46039f\"],[0.2222222222222222,\"#7201a8\"],[0.3333333333333333,\"#9c179e\"],[0.4444444444444444,\"#bd3786\"],[0.5555555555555556,\"#d8576b\"],[0.6666666666666666,\"#ed7953\"],[0.7777777777777778,\"#fb9f3a\"],[0.8888888888888888,\"#fdca26\"],[1.0,\"#f0f921\"]],\"sequentialminus\":[[0.0,\"#0d0887\"],[0.1111111111111111,\"#46039f\"],[0.2222222222222222,\"#7201a8\"],[0.3333333333333333,\"#9c179e\"],[0.4444444444444444,\"#bd3786\"],[0.5555555555555556,\"#d8576b\"],[0.6666666666666666,\"#ed7953\"],[0.7777777777777778,\"#fb9f3a\"],[0.8888888888888888,\"#fdca26\"],[1.0,\"#f0f921\"]],\"diverging\":[[0,\"#8e0152\"],[0.1,\"#c51b7d\"],[0.2,\"#de77ae\"],[0.3,\"#f1b6da\"],[0.4,\"#fde0ef\"],[0.5,\"#f7f7f7\"],[0.6,\"#e6f5d0\"],[0.7,\"#b8e186\"],[0.8,\"#7fbc41\"],[0.9,\"#4d9221\"],[1,\"#276419\"]]},\"xaxis\":{\"gridcolor\":\"white\",\"linecolor\":\"white\",\"ticks\":\"\",\"title\":{\"standoff\":15},\"zerolinecolor\":\"white\",\"automargin\":true,\"zerolinewidth\":2},\"yaxis\":{\"gridcolor\":\"white\",\"linecolor\":\"white\",\"ticks\":\"\",\"title\":{\"standoff\":15},\"zerolinecolor\":\"white\",\"automargin\":true,\"zerolinewidth\":2},\"scene\":{\"xaxis\":{\"backgroundcolor\":\"#E5ECF6\",\"gridcolor\":\"white\",\"linecolor\":\"white\",\"showbackground\":true,\"ticks\":\"\",\"zerolinecolor\":\"white\",\"gridwidth\":2},\"yaxis\":{\"backgroundcolor\":\"#E5ECF6\",\"gridcolor\":\"white\",\"linecolor\":\"white\",\"showbackground\":true,\"ticks\":\"\",\"zerolinecolor\":\"white\",\"gridwidth\":2},\"zaxis\":{\"backgroundcolor\":\"#E5ECF6\",\"gridcolor\":\"white\",\"linecolor\":\"white\",\"showbackground\":true,\"ticks\":\"\",\"zerolinecolor\":\"white\",\"gridwidth\":2}},\"shapedefaults\":{\"line\":{\"color\":\"#2a3f5f\"}},\"annotationdefaults\":{\"arrowcolor\":\"#2a3f5f\",\"arrowhead\":0,\"arrowwidth\":1},\"geo\":{\"bgcolor\":\"white\",\"landcolor\":\"#E5ECF6\",\"subunitcolor\":\"white\",\"showland\":true,\"showlakes\":true,\"lakecolor\":\"white\"},\"title\":{\"x\":0.05},\"mapbox\":{\"style\":\"light\"}}},\"xaxis\":{\"anchor\":\"y\",\"domain\":[0.0,1.0],\"title\":{\"text\":\"Correct Guesses, #\"}},\"yaxis\":{\"anchor\":\"x\",\"domain\":[0.0,1.0],\"title\":{\"text\":\"Prob to Guess, %\"}},\"legend\":{\"tracegroupgap\":0},\"title\":{\"text\":\"Probability of Correct Guessed Games out of 10 weekly games\"},\"height\":450,\"width\":650},                        {\"responsive\": true}                    ).then(function(){\n",
              "                            \n",
              "var gd = document.getElementById('6102faec-4afb-4a4f-b397-6cf0541cb4d7');\n",
              "var x = new MutationObserver(function (mutations, observer) {{\n",
              "        var display = window.getComputedStyle(gd).display;\n",
              "        if (!display || display === 'none') {{\n",
              "            console.log([gd, 'removed!']);\n",
              "            Plotly.purge(gd);\n",
              "            observer.disconnect();\n",
              "        }}\n",
              "}});\n",
              "\n",
              "// Listen for the removal of the full notebook cells\n",
              "var notebookContainer = gd.closest('#notebook-container');\n",
              "if (notebookContainer) {{\n",
              "    x.observe(notebookContainer, {childList: true});\n",
              "}}\n",
              "\n",
              "// Listen for the clearing of the current output cell\n",
              "var outputEl = gd.closest('.output');\n",
              "if (outputEl) {{\n",
              "    x.observe(outputEl, {childList: true});\n",
              "}}\n",
              "\n",
              "                        })                };                            </script>        </div>\n",
              "</body>\n",
              "</html>"
            ]
          },
          "metadata": {}
        },
        {
          "output_type": "display_data",
          "data": {
            "text/html": [
              "<html>\n",
              "<head><meta charset=\"utf-8\" /></head>\n",
              "<body>\n",
              "    <div>            <script src=\"https://cdnjs.cloudflare.com/ajax/libs/mathjax/2.7.5/MathJax.js?config=TeX-AMS-MML_SVG\"></script><script type=\"text/javascript\">if (window.MathJax && window.MathJax.Hub && window.MathJax.Hub.Config) {window.MathJax.Hub.Config({SVG: {font: \"STIX-Web\"}});}</script>                <script type=\"text/javascript\">window.PlotlyConfig = {MathJaxConfig: 'local'};</script>\n",
              "        <script charset=\"utf-8\" src=\"https://cdn.plot.ly/plotly-2.24.1.min.js\"></script>                <div id=\"ea2bcb59-8e36-4955-883a-4cde693cec6c\" class=\"plotly-graph-div\" style=\"height:450px; width:650px;\"></div>            <script type=\"text/javascript\">                                    window.PLOTLYENV=window.PLOTLYENV || {};                                    if (document.getElementById(\"ea2bcb59-8e36-4955-883a-4cde693cec6c\")) {                    Plotly.newPlot(                        \"ea2bcb59-8e36-4955-883a-4cde693cec6c\",                        [{\"alignmentgroup\":\"True\",\"hovertemplate\":\"Correct Guesses, #=%{x}\\u003cbr\\u003eExpected Value, $=%{text}\\u003cextra\\u003e\\u003c\\u002fextra\\u003e\",\"legendgroup\":\"\",\"marker\":{\"color\":\"#636efa\",\"pattern\":{\"shape\":\"\"}},\"name\":\"\",\"offsetgroup\":\"\",\"orientation\":\"v\",\"showlegend\":false,\"text\":[-20.0,-18.0,-10.0,4.0,23.0,37.0,46.0,50.0,51.0,55.0,56.0],\"textposition\":\"outside\",\"x\":[\"0\",\"1\",\"2\",\"3\",\"4\",\"5\",\"6\",\"7\",\"8\",\"9\",\"10\"],\"xaxis\":\"x\",\"y\":[-20,-18,-10,4,23,37,46,50,51,55,56],\"yaxis\":\"y\",\"type\":\"bar\"}],                        {\"template\":{\"data\":{\"histogram2dcontour\":[{\"type\":\"histogram2dcontour\",\"colorbar\":{\"outlinewidth\":0,\"ticks\":\"\"},\"colorscale\":[[0.0,\"#0d0887\"],[0.1111111111111111,\"#46039f\"],[0.2222222222222222,\"#7201a8\"],[0.3333333333333333,\"#9c179e\"],[0.4444444444444444,\"#bd3786\"],[0.5555555555555556,\"#d8576b\"],[0.6666666666666666,\"#ed7953\"],[0.7777777777777778,\"#fb9f3a\"],[0.8888888888888888,\"#fdca26\"],[1.0,\"#f0f921\"]]}],\"choropleth\":[{\"type\":\"choropleth\",\"colorbar\":{\"outlinewidth\":0,\"ticks\":\"\"}}],\"histogram2d\":[{\"type\":\"histogram2d\",\"colorbar\":{\"outlinewidth\":0,\"ticks\":\"\"},\"colorscale\":[[0.0,\"#0d0887\"],[0.1111111111111111,\"#46039f\"],[0.2222222222222222,\"#7201a8\"],[0.3333333333333333,\"#9c179e\"],[0.4444444444444444,\"#bd3786\"],[0.5555555555555556,\"#d8576b\"],[0.6666666666666666,\"#ed7953\"],[0.7777777777777778,\"#fb9f3a\"],[0.8888888888888888,\"#fdca26\"],[1.0,\"#f0f921\"]]}],\"heatmap\":[{\"type\":\"heatmap\",\"colorbar\":{\"outlinewidth\":0,\"ticks\":\"\"},\"colorscale\":[[0.0,\"#0d0887\"],[0.1111111111111111,\"#46039f\"],[0.2222222222222222,\"#7201a8\"],[0.3333333333333333,\"#9c179e\"],[0.4444444444444444,\"#bd3786\"],[0.5555555555555556,\"#d8576b\"],[0.6666666666666666,\"#ed7953\"],[0.7777777777777778,\"#fb9f3a\"],[0.8888888888888888,\"#fdca26\"],[1.0,\"#f0f921\"]]}],\"heatmapgl\":[{\"type\":\"heatmapgl\",\"colorbar\":{\"outlinewidth\":0,\"ticks\":\"\"},\"colorscale\":[[0.0,\"#0d0887\"],[0.1111111111111111,\"#46039f\"],[0.2222222222222222,\"#7201a8\"],[0.3333333333333333,\"#9c179e\"],[0.4444444444444444,\"#bd3786\"],[0.5555555555555556,\"#d8576b\"],[0.6666666666666666,\"#ed7953\"],[0.7777777777777778,\"#fb9f3a\"],[0.8888888888888888,\"#fdca26\"],[1.0,\"#f0f921\"]]}],\"contourcarpet\":[{\"type\":\"contourcarpet\",\"colorbar\":{\"outlinewidth\":0,\"ticks\":\"\"}}],\"contour\":[{\"type\":\"contour\",\"colorbar\":{\"outlinewidth\":0,\"ticks\":\"\"},\"colorscale\":[[0.0,\"#0d0887\"],[0.1111111111111111,\"#46039f\"],[0.2222222222222222,\"#7201a8\"],[0.3333333333333333,\"#9c179e\"],[0.4444444444444444,\"#bd3786\"],[0.5555555555555556,\"#d8576b\"],[0.6666666666666666,\"#ed7953\"],[0.7777777777777778,\"#fb9f3a\"],[0.8888888888888888,\"#fdca26\"],[1.0,\"#f0f921\"]]}],\"surface\":[{\"type\":\"surface\",\"colorbar\":{\"outlinewidth\":0,\"ticks\":\"\"},\"colorscale\":[[0.0,\"#0d0887\"],[0.1111111111111111,\"#46039f\"],[0.2222222222222222,\"#7201a8\"],[0.3333333333333333,\"#9c179e\"],[0.4444444444444444,\"#bd3786\"],[0.5555555555555556,\"#d8576b\"],[0.6666666666666666,\"#ed7953\"],[0.7777777777777778,\"#fb9f3a\"],[0.8888888888888888,\"#fdca26\"],[1.0,\"#f0f921\"]]}],\"mesh3d\":[{\"type\":\"mesh3d\",\"colorbar\":{\"outlinewidth\":0,\"ticks\":\"\"}}],\"scatter\":[{\"fillpattern\":{\"fillmode\":\"overlay\",\"size\":10,\"solidity\":0.2},\"type\":\"scatter\"}],\"parcoords\":[{\"type\":\"parcoords\",\"line\":{\"colorbar\":{\"outlinewidth\":0,\"ticks\":\"\"}}}],\"scatterpolargl\":[{\"type\":\"scatterpolargl\",\"marker\":{\"colorbar\":{\"outlinewidth\":0,\"ticks\":\"\"}}}],\"bar\":[{\"error_x\":{\"color\":\"#2a3f5f\"},\"error_y\":{\"color\":\"#2a3f5f\"},\"marker\":{\"line\":{\"color\":\"#E5ECF6\",\"width\":0.5},\"pattern\":{\"fillmode\":\"overlay\",\"size\":10,\"solidity\":0.2}},\"type\":\"bar\"}],\"scattergeo\":[{\"type\":\"scattergeo\",\"marker\":{\"colorbar\":{\"outlinewidth\":0,\"ticks\":\"\"}}}],\"scatterpolar\":[{\"type\":\"scatterpolar\",\"marker\":{\"colorbar\":{\"outlinewidth\":0,\"ticks\":\"\"}}}],\"histogram\":[{\"marker\":{\"pattern\":{\"fillmode\":\"overlay\",\"size\":10,\"solidity\":0.2}},\"type\":\"histogram\"}],\"scattergl\":[{\"type\":\"scattergl\",\"marker\":{\"colorbar\":{\"outlinewidth\":0,\"ticks\":\"\"}}}],\"scatter3d\":[{\"type\":\"scatter3d\",\"line\":{\"colorbar\":{\"outlinewidth\":0,\"ticks\":\"\"}},\"marker\":{\"colorbar\":{\"outlinewidth\":0,\"ticks\":\"\"}}}],\"scattermapbox\":[{\"type\":\"scattermapbox\",\"marker\":{\"colorbar\":{\"outlinewidth\":0,\"ticks\":\"\"}}}],\"scatterternary\":[{\"type\":\"scatterternary\",\"marker\":{\"colorbar\":{\"outlinewidth\":0,\"ticks\":\"\"}}}],\"scattercarpet\":[{\"type\":\"scattercarpet\",\"marker\":{\"colorbar\":{\"outlinewidth\":0,\"ticks\":\"\"}}}],\"carpet\":[{\"aaxis\":{\"endlinecolor\":\"#2a3f5f\",\"gridcolor\":\"white\",\"linecolor\":\"white\",\"minorgridcolor\":\"white\",\"startlinecolor\":\"#2a3f5f\"},\"baxis\":{\"endlinecolor\":\"#2a3f5f\",\"gridcolor\":\"white\",\"linecolor\":\"white\",\"minorgridcolor\":\"white\",\"startlinecolor\":\"#2a3f5f\"},\"type\":\"carpet\"}],\"table\":[{\"cells\":{\"fill\":{\"color\":\"#EBF0F8\"},\"line\":{\"color\":\"white\"}},\"header\":{\"fill\":{\"color\":\"#C8D4E3\"},\"line\":{\"color\":\"white\"}},\"type\":\"table\"}],\"barpolar\":[{\"marker\":{\"line\":{\"color\":\"#E5ECF6\",\"width\":0.5},\"pattern\":{\"fillmode\":\"overlay\",\"size\":10,\"solidity\":0.2}},\"type\":\"barpolar\"}],\"pie\":[{\"automargin\":true,\"type\":\"pie\"}]},\"layout\":{\"autotypenumbers\":\"strict\",\"colorway\":[\"#636efa\",\"#EF553B\",\"#00cc96\",\"#ab63fa\",\"#FFA15A\",\"#19d3f3\",\"#FF6692\",\"#B6E880\",\"#FF97FF\",\"#FECB52\"],\"font\":{\"color\":\"#2a3f5f\"},\"hovermode\":\"closest\",\"hoverlabel\":{\"align\":\"left\"},\"paper_bgcolor\":\"white\",\"plot_bgcolor\":\"#E5ECF6\",\"polar\":{\"bgcolor\":\"#E5ECF6\",\"angularaxis\":{\"gridcolor\":\"white\",\"linecolor\":\"white\",\"ticks\":\"\"},\"radialaxis\":{\"gridcolor\":\"white\",\"linecolor\":\"white\",\"ticks\":\"\"}},\"ternary\":{\"bgcolor\":\"#E5ECF6\",\"aaxis\":{\"gridcolor\":\"white\",\"linecolor\":\"white\",\"ticks\":\"\"},\"baxis\":{\"gridcolor\":\"white\",\"linecolor\":\"white\",\"ticks\":\"\"},\"caxis\":{\"gridcolor\":\"white\",\"linecolor\":\"white\",\"ticks\":\"\"}},\"coloraxis\":{\"colorbar\":{\"outlinewidth\":0,\"ticks\":\"\"}},\"colorscale\":{\"sequential\":[[0.0,\"#0d0887\"],[0.1111111111111111,\"#46039f\"],[0.2222222222222222,\"#7201a8\"],[0.3333333333333333,\"#9c179e\"],[0.4444444444444444,\"#bd3786\"],[0.5555555555555556,\"#d8576b\"],[0.6666666666666666,\"#ed7953\"],[0.7777777777777778,\"#fb9f3a\"],[0.8888888888888888,\"#fdca26\"],[1.0,\"#f0f921\"]],\"sequentialminus\":[[0.0,\"#0d0887\"],[0.1111111111111111,\"#46039f\"],[0.2222222222222222,\"#7201a8\"],[0.3333333333333333,\"#9c179e\"],[0.4444444444444444,\"#bd3786\"],[0.5555555555555556,\"#d8576b\"],[0.6666666666666666,\"#ed7953\"],[0.7777777777777778,\"#fb9f3a\"],[0.8888888888888888,\"#fdca26\"],[1.0,\"#f0f921\"]],\"diverging\":[[0,\"#8e0152\"],[0.1,\"#c51b7d\"],[0.2,\"#de77ae\"],[0.3,\"#f1b6da\"],[0.4,\"#fde0ef\"],[0.5,\"#f7f7f7\"],[0.6,\"#e6f5d0\"],[0.7,\"#b8e186\"],[0.8,\"#7fbc41\"],[0.9,\"#4d9221\"],[1,\"#276419\"]]},\"xaxis\":{\"gridcolor\":\"white\",\"linecolor\":\"white\",\"ticks\":\"\",\"title\":{\"standoff\":15},\"zerolinecolor\":\"white\",\"automargin\":true,\"zerolinewidth\":2},\"yaxis\":{\"gridcolor\":\"white\",\"linecolor\":\"white\",\"ticks\":\"\",\"title\":{\"standoff\":15},\"zerolinecolor\":\"white\",\"automargin\":true,\"zerolinewidth\":2},\"scene\":{\"xaxis\":{\"backgroundcolor\":\"#E5ECF6\",\"gridcolor\":\"white\",\"linecolor\":\"white\",\"showbackground\":true,\"ticks\":\"\",\"zerolinecolor\":\"white\",\"gridwidth\":2},\"yaxis\":{\"backgroundcolor\":\"#E5ECF6\",\"gridcolor\":\"white\",\"linecolor\":\"white\",\"showbackground\":true,\"ticks\":\"\",\"zerolinecolor\":\"white\",\"gridwidth\":2},\"zaxis\":{\"backgroundcolor\":\"#E5ECF6\",\"gridcolor\":\"white\",\"linecolor\":\"white\",\"showbackground\":true,\"ticks\":\"\",\"zerolinecolor\":\"white\",\"gridwidth\":2}},\"shapedefaults\":{\"line\":{\"color\":\"#2a3f5f\"}},\"annotationdefaults\":{\"arrowcolor\":\"#2a3f5f\",\"arrowhead\":0,\"arrowwidth\":1},\"geo\":{\"bgcolor\":\"white\",\"landcolor\":\"#E5ECF6\",\"subunitcolor\":\"white\",\"showland\":true,\"showlakes\":true,\"lakecolor\":\"white\"},\"title\":{\"x\":0.05},\"mapbox\":{\"style\":\"light\"}}},\"xaxis\":{\"anchor\":\"y\",\"domain\":[0.0,1.0],\"title\":{\"text\":\"Correct Guesses, #\"}},\"yaxis\":{\"anchor\":\"x\",\"domain\":[0.0,1.0],\"title\":{\"text\":\"Expected Value, $\"}},\"legend\":{\"tracegroupgap\":0},\"title\":{\"text\":\"EV of Correct Guessed Games out of 10 weekly games\"},\"barmode\":\"relative\",\"height\":450,\"width\":650},                        {\"responsive\": true}                    ).then(function(){\n",
              "                            \n",
              "var gd = document.getElementById('ea2bcb59-8e36-4955-883a-4cde693cec6c');\n",
              "var x = new MutationObserver(function (mutations, observer) {{\n",
              "        var display = window.getComputedStyle(gd).display;\n",
              "        if (!display || display === 'none') {{\n",
              "            console.log([gd, 'removed!']);\n",
              "            Plotly.purge(gd);\n",
              "            observer.disconnect();\n",
              "        }}\n",
              "}});\n",
              "\n",
              "// Listen for the removal of the full notebook cells\n",
              "var notebookContainer = gd.closest('#notebook-container');\n",
              "if (notebookContainer) {{\n",
              "    x.observe(notebookContainer, {childList: true});\n",
              "}}\n",
              "\n",
              "// Listen for the clearing of the current output cell\n",
              "var outputEl = gd.closest('.output');\n",
              "if (outputEl) {{\n",
              "    x.observe(outputEl, {childList: true});\n",
              "}}\n",
              "\n",
              "                        })                };                            </script>        </div>\n",
              "</body>\n",
              "</html>"
            ]
          },
          "metadata": {}
        },
        {
          "output_type": "execute_result",
          "data": {
            "text/plain": [
              "(None, None)"
            ]
          },
          "metadata": {},
          "execution_count": 7
        }
      ]
    },
    {
      "cell_type": "markdown",
      "metadata": {
        "id": "Rwct19dMkf-Z"
      },
      "source": [
        "### Minimization"
      ]
    },
    {
      "cell_type": "markdown",
      "metadata": {
        "id": "GS6_TOAqY4mq"
      },
      "source": [
        " ## Minimization Function"
      ]
    },
    {
      "cell_type": "code",
      "execution_count": 8,
      "metadata": {
        "id": "pX5wmhlZi02l"
      },
      "outputs": [],
      "source": [
        "# with expected value per game\n",
        "def minimize_func (entry_fee):\n",
        "  solver = pywraplp.Solver.CreateSolver(\"GLOP\")\n",
        "\n",
        "# define payouts at scale = 100\n",
        "  pay_draw = solver.NumVar(0, solver.infinity(), 'pay_draw')\n",
        "  pay_away = solver.NumVar(0, solver.infinity(), 'pay_away')\n",
        "  pay_home = solver.NumVar(0, solver.infinity(), 'pay_home')\n",
        "\n",
        "  expected_payouts = -entry_fee\n",
        "  probability_win_single = p_draw_win*p_bet_draw + p_away_win*p_bet_away + p_home_win*p_bet_home\n",
        "  expected_value_single_win = p_draw_win*pay_draw + p_away_win*pay_away + p_home_win*pay_home\n",
        "\n",
        "  for n in range(0, game_count +1):\n",
        "    prob_win_n_games = probability_win_single**n;\n",
        "    prob_loose_remainng = (1.0-probability_win_single)**(game_count-n);\n",
        "    probability_to_win_n_games = prob_win_n_games*prob_loose_remainng*ss.comb(game_count, n)\n",
        "    expected_payout=n*expected_value_single_win+extra_payout[n]\n",
        "    expected_payouts += expected_payout * probability_to_win_n_games\n",
        "\n",
        "    # constraints\n",
        "  solver.Add(pay_draw >= pay_away + 2)\n",
        "  solver.Add(pay_draw - pay_away <=  3)\n",
        "  solver.Add(pay_away >= pay_home + 2)\n",
        "  solver.Add(pay_away - pay_home <= 3)\n",
        "  solver.Add(pay_home >= 3)\n",
        "  solver.Add(expected_payouts >= -entry_fee*0.2) #optimize on Casino return is 20% of Entry Fee\n",
        "  solver.Minimize(expected_payouts)\n",
        "  status = solver.Solve()\n",
        "  pay_draw = int(pay_draw.solution_value())\n",
        "  pay_away = int(pay_away.solution_value())\n",
        "  pay_home = int(pay_home.solution_value())\n",
        "\n",
        "  game_payouts = [pay_draw, pay_away, pay_home]\n",
        "\n",
        "  return game_payouts"
      ]
    },
    {
      "cell_type": "code",
      "execution_count": 9,
      "metadata": {
        "colab": {
          "base_uri": "https://localhost:8080/"
        },
        "id": "9E--etvxIGrL",
        "outputId": "9684dcf3-eb9c-4250-e595-39372cf7236c"
      },
      "outputs": [
        {
          "output_type": "execute_result",
          "data": {
            "text/plain": [
              "[7, 5, 3]"
            ]
          },
          "metadata": {},
          "execution_count": 9
        }
      ],
      "source": [
        "minimize_func (entry_fee = 15)"
      ]
    },
    {
      "cell_type": "code",
      "source": [
        "excpected_value(15,game_count,\n",
        "                    p_draw_win, p_away_win,p_home_win,\n",
        "                    p_bet_draw, p_bet_away,p_bet_home,\n",
        "                    7, 5,3, extra_payout)\n",
        "# for casino it is -9, so even with optimized Game Payouts, casino losses money"
      ],
      "metadata": {
        "colab": {
          "base_uri": "https://localhost:8080/"
        },
        "id": "0G0QYi_eBgog",
        "outputId": "312614f0-1f7d-4959-c7a6-3e19e47484f4"
      },
      "execution_count": 10,
      "outputs": [
        {
          "output_type": "execute_result",
          "data": {
            "text/plain": [
              "9.939688675462202"
            ]
          },
          "metadata": {},
          "execution_count": 10
        }
      ]
    },
    {
      "cell_type": "code",
      "execution_count": 11,
      "metadata": {
        "id": "Svc2rB3QpplC"
      },
      "outputs": [],
      "source": [
        "#let's iterate entry fee, to find, what is the level, when casino starts to earn\n",
        "games_payouts = []\n",
        "entry_fees  = range(15,51)\n",
        "expected_payouts=[]\n",
        "pdr = []\n",
        "pa = []\n",
        "ph = []\n",
        "for entry_fee in entry_fees:\n",
        "  games_payouts = minimize_func (entry_fee)\n",
        "  pdr.append(games_payouts[0])\n",
        "  pa.append(games_payouts[1])\n",
        "  ph.append(games_payouts[2])\n",
        "  for gp in games_payouts:\n",
        "    payout_draw = games_payouts[0]\n",
        "    payout_away = games_payouts[1]\n",
        "    payout_home = games_payouts[2]\n",
        "    ep = excpected_value(entry_fee,game_count,\n",
        "                    p_draw_win, p_away_win,p_home_win,\n",
        "                    p_bet_draw, p_bet_away,p_bet_home,\n",
        "                    payout_draw, payout_away,payout_home, extra_payout)\n",
        "  expected_payouts.append(ep)\n",
        "d = {\n",
        "        'Entry Fee': entry_fees,\n",
        "        'Expected Payouts': expected_payouts,\n",
        "        'Payout Draw' : pdr,\n",
        "        'Payout Away' : pa,\n",
        "        'Payout home' : ph,\n",
        "     }\n",
        "df = pd.DataFrame.from_dict(d, orient = 'index').transpose()"
      ]
    },
    {
      "cell_type": "code",
      "execution_count": 12,
      "metadata": {
        "colab": {
          "base_uri": "https://localhost:8080/",
          "height": 617
        },
        "id": "JDORAioXbrXM",
        "outputId": "7daaa789-4ffb-4943-9960-ee71f14a4e64"
      },
      "outputs": [
        {
          "output_type": "display_data",
          "data": {
            "text/html": [
              "<html>\n",
              "<head><meta charset=\"utf-8\" /></head>\n",
              "<body>\n",
              "    <div>            <script src=\"https://cdnjs.cloudflare.com/ajax/libs/mathjax/2.7.5/MathJax.js?config=TeX-AMS-MML_SVG\"></script><script type=\"text/javascript\">if (window.MathJax && window.MathJax.Hub && window.MathJax.Hub.Config) {window.MathJax.Hub.Config({SVG: {font: \"STIX-Web\"}});}</script>                <script type=\"text/javascript\">window.PlotlyConfig = {MathJaxConfig: 'local'};</script>\n",
              "        <script charset=\"utf-8\" src=\"https://cdn.plot.ly/plotly-2.24.1.min.js\"></script>                <div id=\"1e2a936d-00a1-4280-a431-0921e23df476\" class=\"plotly-graph-div\" style=\"height:600px; width:1000px;\"></div>            <script type=\"text/javascript\">                                    window.PLOTLYENV=window.PLOTLYENV || {};                                    if (document.getElementById(\"1e2a936d-00a1-4280-a431-0921e23df476\")) {                    Plotly.newPlot(                        \"1e2a936d-00a1-4280-a431-0921e23df476\",                        [{\"mode\":\"lines+markers\",\"name\":\"Expected Payouts\",\"x\":[15.0,16.0,17.0,18.0,19.0,20.0,21.0,22.0,23.0,24.0,25.0,26.0,27.0,28.0,29.0,30.0,31.0,32.0,33.0,34.0,35.0,36.0,37.0,38.0,39.0,40.0,41.0,42.0,43.0,44.0,45.0,46.0,47.0,48.0,49.0,50.0],\"y\":[9.939688675462202,8.939688675462202,7.939688675462202,6.939688675462202,5.939688675462202,4.939688675462202,3.939688675462202,2.939688675462202,1.9396886754622,0.9396886754621996,-0.060311324537800415,-1.0603113245378004,-2.0603113245378006,-3.0603113245378006,-4.060311324537801,-5.060311324537801,-6.060311324537799,-7.060311324537798,-8.060311324537794,-6.856161324537798,-7.856161324537801,-8.856161324537801,-9.856161324537801,-10.856161324537801,-8.4651613245378,-9.4651613245378,-10.4651613245378,-11.4651613245378,-9.074161324537801,-10.074161324537801,-11.074161324537805,-12.074161324537805,-9.683161324537803,-10.6831613245378,-11.6831613245378,-12.6831613245378],\"type\":\"scatter\",\"xaxis\":\"x\",\"yaxis\":\"y\"},{\"mode\":\"lines\",\"name\":\"Payout Draw\",\"x\":[15.0,16.0,17.0,18.0,19.0,20.0,21.0,22.0,23.0,24.0,25.0,26.0,27.0,28.0,29.0,30.0,31.0,32.0,33.0,34.0,35.0,36.0,37.0,38.0,39.0,40.0,41.0,42.0,43.0,44.0,45.0,46.0,47.0,48.0,49.0,50.0],\"y\":[7.0,7.0,7.0,7.0,7.0,7.0,7.0,7.0,7.0,7.0,7.0,7.0,7.0,7.0,7.0,7.0,7.0,7.0,7.0,8.0,8.0,8.0,8.0,8.0,9.0,9.0,9.0,9.0,10.0,10.0,10.0,10.0,11.0,11.0,11.0,11.0],\"type\":\"scatter\",\"xaxis\":\"x\",\"yaxis\":\"y\"},{\"mode\":\"lines\",\"name\":\"Payout Away\",\"x\":[15.0,16.0,17.0,18.0,19.0,20.0,21.0,22.0,23.0,24.0,25.0,26.0,27.0,28.0,29.0,30.0,31.0,32.0,33.0,34.0,35.0,36.0,37.0,38.0,39.0,40.0,41.0,42.0,43.0,44.0,45.0,46.0,47.0,48.0,49.0,50.0],\"y\":[5.0,5.0,5.0,5.0,5.0,5.0,5.0,5.0,5.0,5.0,5.0,5.0,5.0,5.0,5.0,5.0,5.0,5.0,5.0,6.0,6.0,6.0,6.0,6.0,7.0,7.0,7.0,7.0,8.0,8.0,8.0,8.0,9.0,9.0,9.0,9.0],\"type\":\"scatter\",\"xaxis\":\"x\",\"yaxis\":\"y\"},{\"mode\":\"lines\",\"name\":\"Payout House\",\"x\":[15.0,16.0,17.0,18.0,19.0,20.0,21.0,22.0,23.0,24.0,25.0,26.0,27.0,28.0,29.0,30.0,31.0,32.0,33.0,34.0,35.0,36.0,37.0,38.0,39.0,40.0,41.0,42.0,43.0,44.0,45.0,46.0,47.0,48.0,49.0,50.0],\"y\":[3.0,3.0,3.0,3.0,3.0,3.0,3.0,3.0,3.0,3.0,3.0,3.0,3.0,3.0,3.0,3.0,3.0,3.0,3.0,3.0,3.0,3.0,3.0,3.0,4.0,4.0,4.0,4.0,5.0,5.0,5.0,5.0,6.0,6.0,6.0,6.0],\"type\":\"scatter\",\"xaxis\":\"x\",\"yaxis\":\"y\"},{\"name\":\"Margin %\",\"x\":[15.0,16.0,17.0,18.0,19.0,20.0,21.0,22.0,23.0,24.0,25.0,26.0,27.0,28.0,29.0,30.0,31.0,32.0,33.0,34.0,35.0,36.0,37.0,38.0,39.0,40.0,41.0,42.0,43.0,44.0,45.0,46.0,47.0,48.0,49.0,50.0],\"y\":[-66.26459116974802,-55.87305422163876,-46.7040510321306,-38.553825974790016,-31.26151934453791,-24.698443377311012,-18.760422264105724,-13.362221252100918,-8.433429023748696,-3.9153694810924984,0.24124529815120166,4.07812047899154,7.6307826834733365,10.929683301920717,14.001073532888968,16.867704415126003,19.54939136947677,22.06347288918062,24.425185831932712,20.16518036628764,22.446175212965148,24.600448123716117,26.638273850102166,28.56884559088895,21.70554185778923,23.6629033113445,25.524783718384874,27.298003153661426,21.10270075473907,22.895821192131365,24.60924738786179,26.248176792473487,20.60247090327192,22.25658609278708,23.843186376607754,25.366322649075602],\"type\":\"scatter\",\"xaxis\":\"x\",\"yaxis\":\"y2\"}],                        {\"template\":{\"data\":{\"histogram2dcontour\":[{\"type\":\"histogram2dcontour\",\"colorbar\":{\"outlinewidth\":0,\"ticks\":\"\"},\"colorscale\":[[0.0,\"#0d0887\"],[0.1111111111111111,\"#46039f\"],[0.2222222222222222,\"#7201a8\"],[0.3333333333333333,\"#9c179e\"],[0.4444444444444444,\"#bd3786\"],[0.5555555555555556,\"#d8576b\"],[0.6666666666666666,\"#ed7953\"],[0.7777777777777778,\"#fb9f3a\"],[0.8888888888888888,\"#fdca26\"],[1.0,\"#f0f921\"]]}],\"choropleth\":[{\"type\":\"choropleth\",\"colorbar\":{\"outlinewidth\":0,\"ticks\":\"\"}}],\"histogram2d\":[{\"type\":\"histogram2d\",\"colorbar\":{\"outlinewidth\":0,\"ticks\":\"\"},\"colorscale\":[[0.0,\"#0d0887\"],[0.1111111111111111,\"#46039f\"],[0.2222222222222222,\"#7201a8\"],[0.3333333333333333,\"#9c179e\"],[0.4444444444444444,\"#bd3786\"],[0.5555555555555556,\"#d8576b\"],[0.6666666666666666,\"#ed7953\"],[0.7777777777777778,\"#fb9f3a\"],[0.8888888888888888,\"#fdca26\"],[1.0,\"#f0f921\"]]}],\"heatmap\":[{\"type\":\"heatmap\",\"colorbar\":{\"outlinewidth\":0,\"ticks\":\"\"},\"colorscale\":[[0.0,\"#0d0887\"],[0.1111111111111111,\"#46039f\"],[0.2222222222222222,\"#7201a8\"],[0.3333333333333333,\"#9c179e\"],[0.4444444444444444,\"#bd3786\"],[0.5555555555555556,\"#d8576b\"],[0.6666666666666666,\"#ed7953\"],[0.7777777777777778,\"#fb9f3a\"],[0.8888888888888888,\"#fdca26\"],[1.0,\"#f0f921\"]]}],\"heatmapgl\":[{\"type\":\"heatmapgl\",\"colorbar\":{\"outlinewidth\":0,\"ticks\":\"\"},\"colorscale\":[[0.0,\"#0d0887\"],[0.1111111111111111,\"#46039f\"],[0.2222222222222222,\"#7201a8\"],[0.3333333333333333,\"#9c179e\"],[0.4444444444444444,\"#bd3786\"],[0.5555555555555556,\"#d8576b\"],[0.6666666666666666,\"#ed7953\"],[0.7777777777777778,\"#fb9f3a\"],[0.8888888888888888,\"#fdca26\"],[1.0,\"#f0f921\"]]}],\"contourcarpet\":[{\"type\":\"contourcarpet\",\"colorbar\":{\"outlinewidth\":0,\"ticks\":\"\"}}],\"contour\":[{\"type\":\"contour\",\"colorbar\":{\"outlinewidth\":0,\"ticks\":\"\"},\"colorscale\":[[0.0,\"#0d0887\"],[0.1111111111111111,\"#46039f\"],[0.2222222222222222,\"#7201a8\"],[0.3333333333333333,\"#9c179e\"],[0.4444444444444444,\"#bd3786\"],[0.5555555555555556,\"#d8576b\"],[0.6666666666666666,\"#ed7953\"],[0.7777777777777778,\"#fb9f3a\"],[0.8888888888888888,\"#fdca26\"],[1.0,\"#f0f921\"]]}],\"surface\":[{\"type\":\"surface\",\"colorbar\":{\"outlinewidth\":0,\"ticks\":\"\"},\"colorscale\":[[0.0,\"#0d0887\"],[0.1111111111111111,\"#46039f\"],[0.2222222222222222,\"#7201a8\"],[0.3333333333333333,\"#9c179e\"],[0.4444444444444444,\"#bd3786\"],[0.5555555555555556,\"#d8576b\"],[0.6666666666666666,\"#ed7953\"],[0.7777777777777778,\"#fb9f3a\"],[0.8888888888888888,\"#fdca26\"],[1.0,\"#f0f921\"]]}],\"mesh3d\":[{\"type\":\"mesh3d\",\"colorbar\":{\"outlinewidth\":0,\"ticks\":\"\"}}],\"scatter\":[{\"fillpattern\":{\"fillmode\":\"overlay\",\"size\":10,\"solidity\":0.2},\"type\":\"scatter\"}],\"parcoords\":[{\"type\":\"parcoords\",\"line\":{\"colorbar\":{\"outlinewidth\":0,\"ticks\":\"\"}}}],\"scatterpolargl\":[{\"type\":\"scatterpolargl\",\"marker\":{\"colorbar\":{\"outlinewidth\":0,\"ticks\":\"\"}}}],\"bar\":[{\"error_x\":{\"color\":\"#2a3f5f\"},\"error_y\":{\"color\":\"#2a3f5f\"},\"marker\":{\"line\":{\"color\":\"#E5ECF6\",\"width\":0.5},\"pattern\":{\"fillmode\":\"overlay\",\"size\":10,\"solidity\":0.2}},\"type\":\"bar\"}],\"scattergeo\":[{\"type\":\"scattergeo\",\"marker\":{\"colorbar\":{\"outlinewidth\":0,\"ticks\":\"\"}}}],\"scatterpolar\":[{\"type\":\"scatterpolar\",\"marker\":{\"colorbar\":{\"outlinewidth\":0,\"ticks\":\"\"}}}],\"histogram\":[{\"marker\":{\"pattern\":{\"fillmode\":\"overlay\",\"size\":10,\"solidity\":0.2}},\"type\":\"histogram\"}],\"scattergl\":[{\"type\":\"scattergl\",\"marker\":{\"colorbar\":{\"outlinewidth\":0,\"ticks\":\"\"}}}],\"scatter3d\":[{\"type\":\"scatter3d\",\"line\":{\"colorbar\":{\"outlinewidth\":0,\"ticks\":\"\"}},\"marker\":{\"colorbar\":{\"outlinewidth\":0,\"ticks\":\"\"}}}],\"scattermapbox\":[{\"type\":\"scattermapbox\",\"marker\":{\"colorbar\":{\"outlinewidth\":0,\"ticks\":\"\"}}}],\"scatterternary\":[{\"type\":\"scatterternary\",\"marker\":{\"colorbar\":{\"outlinewidth\":0,\"ticks\":\"\"}}}],\"scattercarpet\":[{\"type\":\"scattercarpet\",\"marker\":{\"colorbar\":{\"outlinewidth\":0,\"ticks\":\"\"}}}],\"carpet\":[{\"aaxis\":{\"endlinecolor\":\"#2a3f5f\",\"gridcolor\":\"white\",\"linecolor\":\"white\",\"minorgridcolor\":\"white\",\"startlinecolor\":\"#2a3f5f\"},\"baxis\":{\"endlinecolor\":\"#2a3f5f\",\"gridcolor\":\"white\",\"linecolor\":\"white\",\"minorgridcolor\":\"white\",\"startlinecolor\":\"#2a3f5f\"},\"type\":\"carpet\"}],\"table\":[{\"cells\":{\"fill\":{\"color\":\"#EBF0F8\"},\"line\":{\"color\":\"white\"}},\"header\":{\"fill\":{\"color\":\"#C8D4E3\"},\"line\":{\"color\":\"white\"}},\"type\":\"table\"}],\"barpolar\":[{\"marker\":{\"line\":{\"color\":\"#E5ECF6\",\"width\":0.5},\"pattern\":{\"fillmode\":\"overlay\",\"size\":10,\"solidity\":0.2}},\"type\":\"barpolar\"}],\"pie\":[{\"automargin\":true,\"type\":\"pie\"}]},\"layout\":{\"autotypenumbers\":\"strict\",\"colorway\":[\"#636efa\",\"#EF553B\",\"#00cc96\",\"#ab63fa\",\"#FFA15A\",\"#19d3f3\",\"#FF6692\",\"#B6E880\",\"#FF97FF\",\"#FECB52\"],\"font\":{\"color\":\"#2a3f5f\"},\"hovermode\":\"closest\",\"hoverlabel\":{\"align\":\"left\"},\"paper_bgcolor\":\"white\",\"plot_bgcolor\":\"#E5ECF6\",\"polar\":{\"bgcolor\":\"#E5ECF6\",\"angularaxis\":{\"gridcolor\":\"white\",\"linecolor\":\"white\",\"ticks\":\"\"},\"radialaxis\":{\"gridcolor\":\"white\",\"linecolor\":\"white\",\"ticks\":\"\"}},\"ternary\":{\"bgcolor\":\"#E5ECF6\",\"aaxis\":{\"gridcolor\":\"white\",\"linecolor\":\"white\",\"ticks\":\"\"},\"baxis\":{\"gridcolor\":\"white\",\"linecolor\":\"white\",\"ticks\":\"\"},\"caxis\":{\"gridcolor\":\"white\",\"linecolor\":\"white\",\"ticks\":\"\"}},\"coloraxis\":{\"colorbar\":{\"outlinewidth\":0,\"ticks\":\"\"}},\"colorscale\":{\"sequential\":[[0.0,\"#0d0887\"],[0.1111111111111111,\"#46039f\"],[0.2222222222222222,\"#7201a8\"],[0.3333333333333333,\"#9c179e\"],[0.4444444444444444,\"#bd3786\"],[0.5555555555555556,\"#d8576b\"],[0.6666666666666666,\"#ed7953\"],[0.7777777777777778,\"#fb9f3a\"],[0.8888888888888888,\"#fdca26\"],[1.0,\"#f0f921\"]],\"sequentialminus\":[[0.0,\"#0d0887\"],[0.1111111111111111,\"#46039f\"],[0.2222222222222222,\"#7201a8\"],[0.3333333333333333,\"#9c179e\"],[0.4444444444444444,\"#bd3786\"],[0.5555555555555556,\"#d8576b\"],[0.6666666666666666,\"#ed7953\"],[0.7777777777777778,\"#fb9f3a\"],[0.8888888888888888,\"#fdca26\"],[1.0,\"#f0f921\"]],\"diverging\":[[0,\"#8e0152\"],[0.1,\"#c51b7d\"],[0.2,\"#de77ae\"],[0.3,\"#f1b6da\"],[0.4,\"#fde0ef\"],[0.5,\"#f7f7f7\"],[0.6,\"#e6f5d0\"],[0.7,\"#b8e186\"],[0.8,\"#7fbc41\"],[0.9,\"#4d9221\"],[1,\"#276419\"]]},\"xaxis\":{\"gridcolor\":\"white\",\"linecolor\":\"white\",\"ticks\":\"\",\"title\":{\"standoff\":15},\"zerolinecolor\":\"white\",\"automargin\":true,\"zerolinewidth\":2},\"yaxis\":{\"gridcolor\":\"white\",\"linecolor\":\"white\",\"ticks\":\"\",\"title\":{\"standoff\":15},\"zerolinecolor\":\"white\",\"automargin\":true,\"zerolinewidth\":2},\"scene\":{\"xaxis\":{\"backgroundcolor\":\"#E5ECF6\",\"gridcolor\":\"white\",\"linecolor\":\"white\",\"showbackground\":true,\"ticks\":\"\",\"zerolinecolor\":\"white\",\"gridwidth\":2},\"yaxis\":{\"backgroundcolor\":\"#E5ECF6\",\"gridcolor\":\"white\",\"linecolor\":\"white\",\"showbackground\":true,\"ticks\":\"\",\"zerolinecolor\":\"white\",\"gridwidth\":2},\"zaxis\":{\"backgroundcolor\":\"#E5ECF6\",\"gridcolor\":\"white\",\"linecolor\":\"white\",\"showbackground\":true,\"ticks\":\"\",\"zerolinecolor\":\"white\",\"gridwidth\":2}},\"shapedefaults\":{\"line\":{\"color\":\"#2a3f5f\"}},\"annotationdefaults\":{\"arrowcolor\":\"#2a3f5f\",\"arrowhead\":0,\"arrowwidth\":1},\"geo\":{\"bgcolor\":\"white\",\"landcolor\":\"#E5ECF6\",\"subunitcolor\":\"white\",\"showland\":true,\"showlakes\":true,\"lakecolor\":\"white\"},\"title\":{\"x\":0.05},\"mapbox\":{\"style\":\"light\"}}},\"xaxis\":{\"anchor\":\"y\",\"domain\":[0.0,0.94],\"title\":{\"text\":\"Entry Fee\"}},\"yaxis\":{\"anchor\":\"x\",\"domain\":[0.0,1.0],\"title\":{\"text\":\"\\u003cb\\u003e$\\u003c\\u002fb\\u003e\"}},\"yaxis2\":{\"anchor\":\"x\",\"overlaying\":\"y\",\"side\":\"right\",\"title\":{\"text\":\"\\u003cb\\u003e%\\u003c\\u002fb\\u003e\"}},\"height\":600,\"width\":1000,\"title\":{\"text\":\"Entry Fee and Expected Value optimized on Margin\"}},                        {\"responsive\": true}                    ).then(function(){\n",
              "                            \n",
              "var gd = document.getElementById('1e2a936d-00a1-4280-a431-0921e23df476');\n",
              "var x = new MutationObserver(function (mutations, observer) {{\n",
              "        var display = window.getComputedStyle(gd).display;\n",
              "        if (!display || display === 'none') {{\n",
              "            console.log([gd, 'removed!']);\n",
              "            Plotly.purge(gd);\n",
              "            observer.disconnect();\n",
              "        }}\n",
              "}});\n",
              "\n",
              "// Listen for the removal of the full notebook cells\n",
              "var notebookContainer = gd.closest('#notebook-container');\n",
              "if (notebookContainer) {{\n",
              "    x.observe(notebookContainer, {childList: true});\n",
              "}}\n",
              "\n",
              "// Listen for the clearing of the current output cell\n",
              "var outputEl = gd.closest('.output');\n",
              "if (outputEl) {{\n",
              "    x.observe(outputEl, {childList: true});\n",
              "}}\n",
              "\n",
              "                        })                };                            </script>        </div>\n",
              "</body>\n",
              "</html>"
            ]
          },
          "metadata": {}
        }
      ],
      "source": [
        "df['Casino Net Win'] = -df['Expected Payouts']\n",
        "df['Margin %'] = 100*(df['Casino Net Win'] / df['Entry Fee']).astype(float)\n",
        "X = df['Entry Fee']\n",
        "y1 = df['Expected Payouts']\n",
        "y2 = df['Payout Draw']\n",
        "y3 = df['Payout Away']\n",
        "y4 = df['Payout home']\n",
        "y5 = df['Margin %']\n",
        "\n",
        "# Create traces\n",
        "fig = go.Figure()\n",
        "# Create figure with secondary y-axis\n",
        "fig = make_subplots(specs=[[{\"secondary_y\": True}]])\n",
        "fig.add_trace(go.Scatter(x=X, y=y1,\n",
        "                    mode='lines+markers',\n",
        "                    name='Expected Payouts'),\n",
        "              secondary_y=False)\n",
        "fig.add_trace(go.Scatter(x=X, y=y2,\n",
        "                    mode='lines',\n",
        "                    name='Payout Draw'),\n",
        "              secondary_y=False)\n",
        "fig.add_trace(go.Scatter(x=X, y=y3,\n",
        "                    mode='lines',\n",
        "                    name='Payout Away'),\n",
        "              secondary_y=False)\n",
        "fig.add_trace(go.Scatter(x=X, y=y4,\n",
        "                    mode='lines',\n",
        "                    name='Payout home'),\n",
        "              secondary_y=False)\n",
        "fig.add_trace(\n",
        "    go.Scatter(x=X, y=y5, name=\"Margin %\"),\n",
        "    secondary_y=True,\n",
        ")\n",
        "fig.update_layout(height = 600, width = 1000)\n",
        "# Add figure title\n",
        "fig.update_layout(\n",
        "    title_text=\"Entry Fee and Expected Value optimized on Margin\"\n",
        ")\n",
        "\n",
        "# Set x-axis title\n",
        "fig.update_xaxes(title_text=\"Entry Fee\")\n",
        "\n",
        "# Set y-axes titles\n",
        "fig.update_yaxes(title_text=\"<b>$</b>\", secondary_y=False)\n",
        "fig.update_yaxes(title_text=\"<b>%</b>\", secondary_y=True)\n",
        "fig.show()"
      ]
    },
    {
      "cell_type": "markdown",
      "source": [
        "Casino is becoming profitable at Entry Fee is 25$.\n",
        "\n",
        "20% Return is accumulating at Entry Fee is between 31 and 32$.\n",
        "\n",
        "After Entry Fee crossing 33% the Game Payouts could be increased."
      ],
      "metadata": {
        "id": "aN_O4qk2yLgL"
      }
    },
    {
      "cell_type": "code",
      "execution_count": 13,
      "metadata": {
        "colab": {
          "base_uri": "https://localhost:8080/"
        },
        "id": "sBiDd0XkYxdN",
        "outputId": "e0c974cc-e235-4edb-c56f-12fbe007c5d5"
      },
      "outputs": [
        {
          "output_type": "stream",
          "name": "stdout",
          "text": [
            "Expected Value per Entry Fee 32$: -7\n"
          ]
        }
      ],
      "source": [
        "print('Expected Value per Entry Fee 32$:', int(excpected_value(32,game_count,\n",
        "                    p_draw_win, p_away_win,p_home_win,\n",
        "                    p_bet_draw, p_bet_away,p_bet_home,\n",
        "                    7, 5,3, extra_payout)))"
      ]
    },
    {
      "cell_type": "code",
      "source": [
        "print('Casino Return is: ', int(-100*excpected_value(32,game_count,\n",
        "                    p_draw_win, p_away_win,p_home_win,\n",
        "                    p_bet_draw, p_bet_away,p_bet_home,\n",
        "                    7, 5,3, extra_payout) / 32), \"%\")"
      ],
      "metadata": {
        "colab": {
          "base_uri": "https://localhost:8080/"
        },
        "id": "wL7rUnewCG4s",
        "outputId": "c8160097-c44c-418b-b6fd-254df6ed2ab8"
      },
      "execution_count": 14,
      "outputs": [
        {
          "output_type": "stream",
          "name": "stdout",
          "text": [
            "Casino Return is:  22 %\n"
          ]
        }
      ]
    },
    {
      "cell_type": "markdown",
      "metadata": {
        "id": "ucO-D4d6cf4d"
      },
      "source": [
        "## Monte Carlo"
      ]
    },
    {
      "cell_type": "code",
      "execution_count": 20,
      "metadata": {
        "colab": {
          "base_uri": "https://localhost:8080/"
        },
        "id": "SRYyQvGsciWh",
        "outputId": "35cc0e55-2a4b-4a2a-a348-774a27d89e80"
      },
      "outputs": [
        {
          "output_type": "stream",
          "name": "stdout",
          "text": [
            "Casino Revenue $:  16000\n",
            "Casino Wins $:  5800\n",
            "Margin %:  36\n"
          ]
        }
      ],
      "source": [
        "# Simulation of Casino Returns with Entry Fee = 32\n",
        "entry_fee = 32\n",
        "\n",
        "def pick_team_type(teams):\n",
        "  teamIndex = teams.index(rand.choice(teams))\n",
        "  teamType = teams[teamIndex][0]\n",
        "  teams[teamIndex][1] -= 1\n",
        "  if teams[teamIndex][1] == 0:\n",
        "    del teams[teamIndex]\n",
        "  return teamType\n",
        "\n",
        "\n",
        "casino_win = []\n",
        "margin = []\n",
        "power = {'strong': 2, 'normal': 1, 'weak': 0}\n",
        "payout = {\n",
        "    'draw': minimize_func (entry_fee)[0],\n",
        "    'away_won': minimize_func (entry_fee)[1],\n",
        "    'home_won': minimize_func (entry_fee)[2]\n",
        "}\n",
        "\n",
        "simulationCount = 2000\n",
        "\n",
        "playerCount = 500\n",
        "\n",
        "simulationSum = 0\n",
        "outcome_sum = 0\n",
        "outcome_sum_list = []\n",
        "\n",
        "for simulation in range(simulationCount):\n",
        "  games = []\n",
        "  teams = [['normal', 22], ['strong', 4], ['weak', 12]]\n",
        "  for i in range(10):\n",
        "    games.append([pick_team_type(teams), pick_team_type(teams)])\n",
        "\n",
        "  totalMoneyMade = entry_fee * playerCount\n",
        "\n",
        "\n",
        "  playerCorrectGuesses = [0] * playerCount\n",
        "\n",
        "  for game in games:\n",
        "    gp_bet_draw = p_bet_draw\n",
        "    gp_bet_home = p_bet_home\n",
        "    gp_draw_win = p_draw_win\n",
        "    gp_home_win = p_home_win\n",
        "\n",
        "    r_outcome = rand.random()\n",
        "    if r_outcome <= gp_home_win:\n",
        "      outcome = 'home_won'\n",
        "    elif r_outcome <= gp_home_win + gp_draw_win:\n",
        "      outcome = 'draw'\n",
        "    else:\n",
        "      outcome = 'away_won'\n",
        "\n",
        "    for player in range(playerCount):\n",
        "      r_bet = rand.random()\n",
        "      if r_bet < gp_bet_home:\n",
        "        bet = 'home_won'\n",
        "      elif r_bet < gp_bet_draw + gp_bet_home:\n",
        "        bet = 'draw'\n",
        "      else:\n",
        "        bet = 'away_won'\n",
        "\n",
        "      if bet == outcome:\n",
        "        playerCorrectGuesses[player] += 1\n",
        "        totalMoneyMade -= payout[outcome]\n",
        "        outcome_sum_list.append(payout[outcome])\n",
        "        outcome_sum += payout[outcome]\n",
        "\n",
        "\n",
        "  for guesses in playerCorrectGuesses:\n",
        "    totalMoneyMade -= extra_payout[guesses]\n",
        "\n",
        "  casino_win.append(totalMoneyMade)\n",
        "\n",
        "  simulationSum += totalMoneyMade\n",
        "  margin.append(100*(totalMoneyMade)/ (entry_fee * playerCount))\n",
        "entry_fee * playerCount\n",
        "print('Casino Revenue $: ', entry_fee * playerCount)\n",
        "print('Casino Wins $: ', int(simulationSum / simulationCount))\n",
        "print('Margin %: ', int(100*(simulationSum / simulationCount) / (entry_fee * playerCount)))"
      ]
    },
    {
      "cell_type": "code",
      "execution_count": 24,
      "metadata": {
        "colab": {
          "base_uri": "https://localhost:8080/",
          "height": 517
        },
        "id": "B-M3zgewq8hg",
        "outputId": "db47abdf-8744-45bd-e6f2-9256e8bebd27"
      },
      "outputs": [
        {
          "output_type": "display_data",
          "data": {
            "text/html": [
              "<html>\n",
              "<head><meta charset=\"utf-8\" /></head>\n",
              "<body>\n",
              "    <div>            <script src=\"https://cdnjs.cloudflare.com/ajax/libs/mathjax/2.7.5/MathJax.js?config=TeX-AMS-MML_SVG\"></script><script type=\"text/javascript\">if (window.MathJax && window.MathJax.Hub && window.MathJax.Hub.Config) {window.MathJax.Hub.Config({SVG: {font: \"STIX-Web\"}});}</script>                <script type=\"text/javascript\">window.PlotlyConfig = {MathJaxConfig: 'local'};</script>\n",
              "        <script charset=\"utf-8\" src=\"https://cdn.plot.ly/plotly-2.24.1.min.js\"></script>                <div id=\"d674b5d9-978a-47bd-a114-2154241b0903\" class=\"plotly-graph-div\" style=\"height:500px; width:800px;\"></div>            <script type=\"text/javascript\">                                    window.PLOTLYENV=window.PLOTLYENV || {};                                    if (document.getElementById(\"d674b5d9-978a-47bd-a114-2154241b0903\")) {                    Plotly.newPlot(                        \"d674b5d9-978a-47bd-a114-2154241b0903\",                        [{\"alignmentgroup\":\"True\",\"hovertemplate\":\"x=%{x}\\u003cextra\\u003e\\u003c\\u002fextra\\u003e\",\"legendgroup\":\"\",\"marker\":{\"color\":\"#636efa\"},\"name\":\"\",\"notched\":false,\"offsetgroup\":\"\",\"orientation\":\"h\",\"showlegend\":false,\"x\":[38.875,35.3375,41.35625,65.075,65.99375,21.56875,72.43125,27.65625,57.125,59.04375,-25.10625,55.51875,58.95,32.0625,52.6,43.5875,-31.65,71.3,37.58125,37.2875,-36.025,71.86875,36.43125,-67.11875,45.25625,25.05625,52.975,54.75,34.10625,68.46875,-17.675,55.8875,37.7125,49.36875,61.50625,31.4625,46.84375,-509.59375,54.85625,26.24375,61.08125,-35.1,17.16875,58.7875,40.29375,61.13125,66.3625,58.7625,71.63125,42.625,60.425,45.98125,31.6625,48.55,59.8875,51.9625,61.04375,67.55625,49.1625,70.0375,34.075,63.1,63.18125,60.58125,68.26875,66.95,66.675,75.5375,53.6625,59.18125,68.05,53.68125,71.14375,45.1125,31.1625,66.36875,64.01875,50.66875,53.69375,60.53125,-27.05625,71.3625,65.34375,55.86875,30.91875,55.31875,52.8625,45.825,48.83125,41.3125,64.38125,55.69375,-17.59375,69.8625,66.45,45.6375,32.0,74.78125,61.89375,62.225,36.05625,42.58125,49.01875,10.3625,75.93125,43.95,65.79375,66.36875,29.94375,54.14375,59.40625,49.0875,58.49375,57.44375,-60.89375,77.35625,-247.68125,58.6,37.39375,59.2,30.2875,35.0,60.16875,28.06875,64.94375,64.4,42.8375,59.36875,66.9125,32.925,71.625,71.49375,46.6,41.80625,63.56875,51.83125,41.3375,41.85,75.44375,40.9,51.15625,49.30625,50.31875,56.60625,50.8125,-35.65,49.25,18.95,-192.83125,51.94375,51.88125,59.76875,50.5875,54.56875,63.075,58.15625,56.7625,46.80625,28.875,58.95,60.25625,65.29375,54.3125,49.0375,66.79375,51.05625,-31.7,66.74375,50.6,49.65625,56.2875,64.8375,54.3,71.89375,39.3625,39.175,23.25,37.775,58.0375,33.2125,51.25625,49.9125,61.93125,36.30625,46.33125,-58.9125,71.06875,18.6125,50.5375,49.71875,51.5125,61.725,45.03125,50.575,46.51875,23.575,40.0375,59.7625,55.6875,61.41875,73.75625,36.8875,51.9625,55.6125,63.7125,55.725,60.08125,-38.65,61.15625,68.03125,14.75,57.2375,32.4,60.4,56.0625,-27.78125,63.06875,62.0125,65.63125,7.54375,70.8375,66.025,-27.79375,56.74375,-136.65625,42.2625,52.73125,73.64375,68.73125,51.8,66.4125,40.03125,62.40625,71.75,54.13125,56.56875,62.60625,71.15,58.15,34.31875,60.46875,47.675,56.95,64.5,-132.6875,49.59375,44.11875,39.275,59.0,32.2125,37.8625,62.30625,47.0125,64.63125,59.35,-40.90625,67.96875,18.93125,36.81875,45.6625,26.74375,55.60625,47.0375,30.61875,46.16875,61.61875,39.14375,56.29375,55.29375,65.83125,25.9125,56.23125,55.65625,12.89375,40.71875,63.975,46.69375,51.40625,67.89375,5.2125,61.9625,62.78125,58.59375,69.275,60.55625,8.5875,49.7125,60.83125,24.00625,42.25625,61.6375,41.73125,59.93125,-37.56875,38.10625,63.875,37.3625,58.80625,43.2375,61.2875,30.7,80.0375,-28.60625,30.93125,52.4625,60.49375,56.5375,-23.71875,10.125,56.8875,40.4125,53.1625,63.14375,35.83125,59.64375,66.03125,50.41875,52.80625,34.09375,72.16875,55.725,44.5625,41.525,68.94375,41.28125,48.125,32.68125,68.56875,58.35625,60.875,71.175,21.625,67.53125,49.2875,46.7625,38.3375,44.34375,66.35625,57.23125,60.43125,67.875,61.75625,-107.8625,46.71875,-315.63125,58.275,60.1125,38.95,59.15625,65.71875,54.775,-42.2625,-53.86875,46.975,70.8375,70.5625,38.69375,65.29375,56.475,8.45,48.80625,49.2375,67.36875,58.2625,10.28125,32.0375,65.8375,59.7875,57.11875,67.7125,55.93125,40.55,-119.8625,-50.49375,67.8625,61.1375,62.2375,45.975,50.65,53.66875,59.15625,66.94375,54.05625,42.325,62.9,56.85,34.13125,61.39375,58.8875,65.65625,69.53125,51.38125,62.78125,50.8375,44.425,49.05625,70.45,28.3625,54.975,41.875,39.40625,-0.63125,55.2,28.8125,62.61875,48.425,-27.9,65.70625,60.76875,48.44375,63.4875,55.2625,60.01875,57.00625,48.74375,60.71875,57.44375,56.48125,59.325,57.5,63.11875,69.83125,64.9625,66.1125,61.9125,66.9875,60.26875,45.4125,26.7375,64.96875,57.38125,46.725,68.01875,60.8875,77.03125,-45.2625,40.275,52.54375,54.63125,42.93125,-30.8875,45.75625,50.84375,66.93125,-61.93125,72.025,40.65625,-129.1375,51.74375,58.91875,42.7625,53.83125,59.48125,60.8375,70.30625,60.975,60.6375,57.05625,66.16875,60.43125,38.54375,38.8375,18.0625,-25.36875,32.1,52.48125,56.83125,55.53125,41.11875,66.225,70.6125,2.49375,73.8375,52.38125,60.8125,51.325,55.76875,50.28125,30.4625,50.3125,29.1125,60.51875,56.2875,11.5125,50.2375,51.96875,56.0125,33.26875,21.6,-35.95,33.01875,33.16875,42.10625,71.13125,56.4875,67.60625,63.4875,49.7625,67.85625,58.9125,41.03125,47.3125,67.31875,42.85,43.08125,48.2125,50.1625,-247.91875,62.05,33.11875,41.55,66.76875,68.4375,77.5625,43.75625,24.825,52.39375,50.98125,57.025,44.5375,68.9875,33.0,59.80625,56.99375,43.86875,34.24375,31.825,61.20625,67.11875,66.90625,43.29375,52.3375,52.05625,54.69375,42.2875,49.79375,-36.45625,47.2375,2.2875,-79.7625,50.175,50.4125,66.88125,34.1625,58.0875,52.79375,61.7,53.2875,-134.4625,53.8125,-29.2625,62.525,47.1,64.8125,63.3125,48.06875,66.79375,61.675,41.925,46.73125,54.85625,57.775,44.05,50.225,55.21875,-330.0,70.25,0.64375,58.9375,68.075,62.3,65.2125,66.6,54.71875,49.51875,30.91875,65.6375,51.11875,-25.63125,60.10625,47.8875,2.25625,60.5,44.89375,67.7,-194.8,54.79375,46.5125,66.44375,58.6375,46.98125,48.7875,44.175,66.8375,57.69375,54.975,47.53125,66.3125,73.40625,-77.9375,66.975,62.775,58.25625,53.13125,57.39375,-662.80625,59.3875,-317.28125,65.4125,54.61875,20.89375,55.3875,28.9,55.5625,56.35625,45.65,-21.625,57.625,24.19375,-47.11875,56.24375,34.3625,66.41875,-20.64375,55.23125,33.14375,44.05625,14.9,61.4625,53.8625,-240.3125,51.75,-13.7625,79.55625,59.63125,60.0875,49.05625,27.86875,58.24375,59.825,54.90625,49.45,61.39375,31.35,57.69375,53.88125,30.05625,60.08125,63.6625,19.2625,39.34375,56.99375,48.85,47.78125,-33.15,53.06875,67.33125,57.1,36.33125,58.9875,51.9875,25.45625,71.4875,42.86875,-413.95,54.83125,60.8,41.09375,37.08125,40.55,49.8625,30.56875,60.3,47.9,70.2125,71.6375,64.2625,56.3125,68.9625,40.775,51.18125,50.3,-16.0875,45.31875,46.925,59.73125,61.25625,54.1,-40.19375,70.9875,-175.95625,-39.0375,35.3875,56.24375,77.00625,68.7125,44.2,36.15625,45.46875,73.5375,37.14375,54.23125,52.73125,47.39375,51.63125,23.68125,41.26875,45.6625,36.5625,60.34375,51.0,38.40625,45.05625,62.0375,58.6375,26.50625,76.80625,52.41875,-5.15625,69.35,58.6,57.01875,61.11875,42.90625,48.65625,52.0625,44.74375,39.2,-57.3125,39.90625,31.78125,31.4125,64.80625,60.38125,52.75625,52.45625,70.60625,24.68125,59.36875,61.81875,-61.93125,59.475,-106.10625,70.275,51.48125,41.65625,66.76875,-32.8,50.56875,36.45625,52.7875,10.6125,65.0125,59.925,57.5375,48.625,37.04375,58.55,-10.25,49.9125,63.775,70.0125,58.2625,47.8125,59.6125,64.5875,47.0375,67.4,66.95,42.525,52.43125,51.1875,52.325,33.99375,56.1,65.5625,58.4,60.1125,50.9125,61.3375,62.4125,61.29375,58.21875,51.9,58.81875,69.88125,29.4375,48.525,62.29375,61.55,64.0625,66.45,35.0375,-113.20625,63.1625,46.98125,-37.04375,-259.13125,35.225,28.46875,53.625,66.14375,46.0125,18.775,42.5625,-31.55625,61.9375,56.4,60.60625,12.4875,32.48125,55.0,70.3625,-35.1875,52.15,-1984.76875,55.3,68.825,65.28125,-60.58125,72.125,55.38125,59.48125,57.40625,18.775,19.625,73.41875,62.48125,74.325,38.70625,54.46875,53.7625,65.84375,64.00625,62.4875,50.28125,60.5875,62.9375,46.33125,-113.0375,71.65625,59.8125,63.975,34.0625,60.2,72.21875,32.24375,67.4875,55.3625,-66.5875,70.25625,61.35625,67.03125,71.025,50.31875,65.55625,66.55625,30.63125,51.49375,43.43125,61.63125,52.51875,33.6125,60.6,51.85625,62.3125,52.80625,60.76875,57.49375,66.34375,63.55625,61.04375,67.49375,60.2125,71.50625,66.13125,-33.60625,31.75625,-79.30625,68.35,61.0625,67.70625,-328.43125,18.71875,42.14375,58.49375,53.95,71.2125,61.79375,60.575,58.9375,71.6375,-42.14375,57.28125,56.45625,40.74375,65.70625,55.125,-287.74375,57.5,57.60625,59.95,66.85625,61.65625,47.21875,71.44375,54.10625,-50.475,75.73125,61.13125,68.79375,-24.025,55.43125,55.66875,70.98125,64.025,62.2,49.275,42.625,-61.05625,63.55625,67.725,67.86875,50.89375,52.3625,49.325,19.3625,52.475,41.86875,-12.7625,61.5625,37.4875,67.65,66.43125,-9.325,68.29375,63.2125,51.73125,64.88125,62.06875,54.6,59.69375,37.28125,69.13125,46.525,-122.55625,52.59375,67.275,54.8,70.09375,51.4375,58.6125,58.6625,61.28125,32.1375,37.0875,-98.7375,-114.86875,34.60625,66.5375,-137.04375,67.70625,54.4125,42.675,60.6375,44.05625,56.30625,65.35625,67.3375,64.1375,66.44375,37.5125,35.25625,47.59375,50.25,53.9,-112.54375,64.8875,68.15,50.5125,61.25625,55.03125,66.15,45.96875,58.74375,52.8875,33.94375,65.04375,64.125,-15.95625,64.5875,56.0375,66.08125,67.00625,29.85,63.9125,-206.96875,64.95,49.21875,-37.375,76.09375,54.04375,46.875,46.175,45.14375,35.38125,-221.3,66.78125,48.15,39.44375,-225.29375,65.96875,65.33125,48.49375,49.3625,71.84375,65.3125,58.55,55.0,62.90625,61.73125,56.24375,60.38125,57.25,61.0625,61.2,72.6625,60.2375,71.99375,48.5125,62.76875,71.80625,54.64375,44.6875,61.0625,51.79375,32.53125,67.55,57.90625,49.875,32.8,54.24375,60.175,34.51875,30.88125,41.24375,71.1,-47.7125,51.325,42.9,59.46875,68.8625,58.6625,55.53125,67.475,60.7875,66.80625,69.75,-413.0875,44.79375,34.7375,66.3625,72.51875,45.8875,37.325,40.0875,60.09375,64.125,57.1125,-36.6125,-578.03125,53.8,59.31875,67.8125,54.2,53.28125,59.70625,51.225,72.06875,66.0625,60.56875,65.44375,-781.225,45.45,38.46875,49.91875,67.49375,61.39375,45.2,42.2875,-265.06875,61.53125,61.0,67.15,70.66875,-566.05,46.9,-33.6,54.7375,66.43125,57.39375,55.075,71.575,53.175,39.7,18.00625,-12.91875,-39.48125,-17.75,62.91875,9.75625,27.6375,57.40625,47.925,62.58125,71.23125,12.73125,65.625,27.16875,48.7875,66.7375,75.8625,69.34375,58.7625,46.50625,67.075,52.10625,-58.49375,39.18125,4.0875,55.94375,-98.64375,56.06875,60.75,-128.48125,-23.76875,65.75,33.475,30.48125,20.18125,45.61875,56.0625,-118.6375,60.08125,57.225,31.55625,66.55625,41.41875,-36.05,11.35625,62.3625,-402.29375,63.9375,67.5375,59.425,-46.61875,34.1125,65.75,75.9375,67.675,61.10625,54.325,30.45625,24.60625,52.00625,60.7625,63.0875,19.63125,59.89375,61.325,71.80625,65.975,32.53125,-451.125,52.125,71.99375,63.53125,67.1125,55.89375,39.175,51.85625,59.79375,42.80625,49.3,-75.01875,62.96875,43.3625,50.7,51.31875,59.24375,43.20625,58.63125,44.30625,52.28125,55.7125,71.5875,66.4375,48.39375,-141.44375,45.95,71.56875,-35.79375,28.55,-55.98125,64.1125,50.425,38.3,59.55,57.675,79.83125,30.725,40.11875,61.24375,68.75625,-109.875,50.21875,63.50625,63.3875,68.14375,40.01875,34.41875,48.59375,52.55625,67.26875,40.8375,35.325,56.23125,-207.1875,42.04375,60.65625,33.33125,25.39375,45.04375,57.6875,11.48125,53.5375,52.7875,61.375,-120.0625,58.84375,52.1625,64.7125,41.0,40.475,56.14375,40.175,52.15625,-26.28125,72.28125,71.01875,57.39375,38.46875,78.8875,54.91875,-43.71875,33.4375,38.60625,36.81875,70.29375,69.95625,14.0375,48.89375,65.0875,68.08125,71.54375,-41.4375,54.53125,46.8875,45.13125,57.3625,59.6,57.9125,54.025,53.3375,-0.30625,37.40625,68.18125,40.5375,63.43125,60.975,62.9,47.1375,53.8,6.15625,13.24375,66.86875,-42.79375,58.76875,53.08125,73.94375,62.775,63.0,60.2,46.35,67.09375,44.2625,19.58125,58.38125,67.25625,54.66875,56.74375,44.525,59.4375,71.8625,48.69375,72.66875,67.8875,43.7875,53.81875,68.4625,61.1875,67.03125,79.6125,56.69375,57.59375,62.0375,-37.06875,55.11875,-44.975,57.9625,33.225,42.69375,52.8375,61.5625,70.825,34.3875,44.3375,63.175,52.525,-293.325,58.55625,63.5375,-186.30625,50.3125,-393.125,65.35625,54.81875,41.125,80.35625,67.70625,55.23125,57.8625,62.2125,42.2875,50.7875,52.33125,58.26875,45.59375,41.275,58.63125,57.675,66.675,-109.19375,67.38125,52.775,61.325,42.0875,60.53125,52.125,47.4375,-121.93125,52.05625,72.15,47.025,71.6,80.10625,39.5875,47.48125,58.83125,61.66875,39.35,46.325,65.7125,52.375,46.1125,33.9875,72.94375,22.66875,66.36875,61.34375,53.45625,64.875,45.21875,65.4125,55.475,48.86875,22.7875,-344.2375,17.70625,61.81875,50.14375,66.625,-61.23125,45.10625,56.56875,37.9375,-23.45,-63.75,36.15,46.8625,62.1125,38.575,-20.075,60.66875,42.76875,55.825,51.88125,45.48125,67.01875,71.0375,44.75,70.65625,42.4375,59.4375,54.4875,48.93125,70.16875,52.425,52.675,55.4,55.9625,58.51875,56.325,48.58125,44.25625,55.05,45.6375,44.875,60.61875,60.8625,-23.8125,64.81875,68.15,71.55625,60.71875,61.7,16.30625,62.4625,43.625,-40.53125,-47.29375,58.125,60.2875,68.6125,43.83125,64.33125,60.75625,68.4,33.83125,59.11875,-46.89375,51.2125,59.25,65.175,70.58125,67.34375,67.3875,48.49375,-67.53125,72.2875,-21.69375,63.15,-19.975,66.73125,42.89375,53.63125,67.65625,72.475,57.08125,38.6375,61.43125,-14.28125,37.55625,-134.55,57.40625,57.975,-112.43125,62.7875,61.0875,-5.71875,71.19375,74.98125,49.36875,62.325,43.73125,-24.7875,46.275,61.44375,54.45625,60.9875,54.3125,53.46875,54.1625,56.69375,45.65,62.8625,46.1625,66.33125,42.125,65.60625,51.24375,71.46875,54.525,61.8,63.675,51.4125,70.46875,65.19375,62.75625,18.85625,-316.3375,67.525,49.2,58.21875,68.0125,61.76875,59.43125,67.61875,29.11875,62.41875,67.14375,50.1,39.0,50.5,33.04375,53.325,69.1,47.15625,48.775,27.5125,60.425,68.675,71.4375,50.2375,55.3375,52.81875,56.16875,52.21875,71.125,26.18125,37.63125,61.25,-10.225,-14.71875,57.09375,-38.18125,63.2875,-43.93125,67.3875,64.275,-37.9125,61.625,52.3875,59.8875,65.25625,43.11875,-42.76875,67.9125,40.6,-21.78125,46.00625,53.975,64.6375,7.4,57.85625,70.65625,71.625,67.9375,64.61875,40.425,65.58125,64.80625,34.1625,62.15,54.28125,-42.78125,63.68125,68.7875,61.79375,51.9375,42.025,-168.1875,32.0375,66.28125,58.71875,64.9875,20.9625,60.28125,54.7875,43.75,-44.0,60.8,62.15,29.525,-49.1125,34.5,66.68125,63.81875,24.76875,67.06875,64.41875,44.50625,2.09375,51.5125,59.6125,71.4375,-89.88125,66.38125,63.3875,56.58125,68.7875,32.225,45.85,59.2875,46.15,52.2875,67.80625,45.14375,-22.49375,27.28125,-184.4875,58.1375,51.35625,50.65,37.9375,58.15625,54.55625,25.39375,62.78125,63.55,-46.2125,52.6125,59.7375,46.1,35.575,-205.1375,61.89375,64.51875,56.59375,35.95,57.6875,67.925,36.875,47.8875,66.9375,60.8125,64.9625,44.4875,52.93125,61.1,59.93125,59.56875,45.025,51.325,-37.3,-611.55,54.8,-13.59375,62.55,-104.18125,67.1125,67.18125,31.18125,49.45625,22.38125,46.23125,70.65,71.4875,58.81875,-27.6875,63.09375,48.125,56.09375,37.025,48.36875,58.61875,52.29375,60.91875,58.21875,34.61875,45.44375,29.1375,75.78125,66.09375,61.2625,50.6125,72.94375,53.69375,61.6625,62.55625,61.00625,-26.74375,-115.35,69.70625,66.98125,76.4375,58.975,42.8625,71.10625,54.675,65.29375,36.76875,29.4375,57.825,52.95625,61.3375,52.225,36.91875,65.1375,52.65,63.875,58.51875,57.11875,64.76875,65.7375,49.09375,57.43125,32.5375,65.00625,56.8,76.61875,23.55625,21.39375,60.175,60.44375,57.825,72.03125,26.33125,16.31875,59.34375,58.725,60.06875,56.46875,71.2875,29.95,51.425,61.5,63.39375,65.9,48.975,55.5125,54.4125,61.05,61.8625,57.55625,59.06875,66.85,72.0,55.55625,79.45,55.325,61.40625,47.35625,52.50625,56.19375,57.73125,72.125,62.1625,49.00625,61.65625,59.9125,62.23125,72.125,47.39375,59.95,62.94375,-120.625,59.31875,26.90625,61.775,35.85,46.56875,62.275,59.9875,56.34375,61.55625,-43.93125,54.225,67.075,50.80625,58.525,57.59375,61.9875,52.025,53.05,54.34375,26.24375,49.9625,63.925,74.66875,67.4625,62.04375,64.91875,76.2625,43.85,62.425,45.25625,56.25625,65.01875,65.3875,67.0875,59.33125,56.76875,63.99375,17.88125,55.175,42.61875,65.40625,66.13125,-110.43125,49.46875,65.0125,62.55625,-61.28125,41.01875,49.55625,66.6875,62.19375,64.00625,66.56875,65.3375,71.2125,0.4875,46.1875,57.76875,55.9125,28.99375,67.16875,-13.225,66.9125,20.55625,54.5625,53.48125,53.275,27.1125,-272.68125,45.06875,-193.86875,29.88125,53.46875,63.85,59.225,41.04375,57.01875,-11.8125,55.51875,43.325,64.60625,53.76875,49.21875,62.9,63.13125,66.025,56.25625,49.24375,49.2375,41.36875,64.75625,-225.11875,51.8125,67.21875,59.4,55.58125,66.40625,51.7125,65.5,65.65625,56.8875,-30.96875,62.86875,48.16875,56.78125,60.15,61.575,55.225,46.6375,3.66875,-92.25625,61.8625,58.24375,76.55625,37.01875,62.50625,22.94375,61.54375,52.20625,-58.5125,59.55625,72.78125,38.375,50.58125,65.4125,48.7625,56.2125,58.91875,49.26875,58.825,67.81875,47.20625,43.1,55.4375,54.93125,68.025,76.81875,45.0,26.025,56.63125,62.025,-112.01875,60.70625,36.8875,62.7625,63.3375,72.39375,-32.68125,62.9625,-234.55,51.2875,-17.9125,67.675,45.54375,60.11875,62.1375,59.48125,62.43125,59.45,46.81875,42.29375,56.59375,58.5375,45.575,20.7375,58.28125,-25.61875,67.0125,43.4875,-631.4,-10.05,61.38125,23.0875,41.8375,45.38125,70.675,68.09375,33.80625,-37.14375,-38.08125,-42.1,63.93125,50.95,52.0875,47.09375,60.24375,11.6875,66.53125,32.5,-56.00625,41.9125,56.5,50.74375,67.81875,62.6125,-4.19375,64.55625,53.59375,59.0625,59.3875,57.21875,57.58125,56.8125,36.3125,23.69375,22.625,59.63125,-31.49375,58.05625,61.58125,51.5125,68.30625,64.90625,58.75,39.5,42.425,47.98125,37.79375,47.94375,-46.05625,19.4125,30.6875,56.0,67.14375,66.28125,62.44375,16.30625,55.90625,-273.06875,67.9875,56.3375,38.05,41.98125],\"x0\":\" \",\"xaxis\":\"x\",\"y0\":\" \",\"yaxis\":\"y\",\"type\":\"box\"}],                        {\"template\":{\"data\":{\"histogram2dcontour\":[{\"type\":\"histogram2dcontour\",\"colorbar\":{\"outlinewidth\":0,\"ticks\":\"\"},\"colorscale\":[[0.0,\"#0d0887\"],[0.1111111111111111,\"#46039f\"],[0.2222222222222222,\"#7201a8\"],[0.3333333333333333,\"#9c179e\"],[0.4444444444444444,\"#bd3786\"],[0.5555555555555556,\"#d8576b\"],[0.6666666666666666,\"#ed7953\"],[0.7777777777777778,\"#fb9f3a\"],[0.8888888888888888,\"#fdca26\"],[1.0,\"#f0f921\"]]}],\"choropleth\":[{\"type\":\"choropleth\",\"colorbar\":{\"outlinewidth\":0,\"ticks\":\"\"}}],\"histogram2d\":[{\"type\":\"histogram2d\",\"colorbar\":{\"outlinewidth\":0,\"ticks\":\"\"},\"colorscale\":[[0.0,\"#0d0887\"],[0.1111111111111111,\"#46039f\"],[0.2222222222222222,\"#7201a8\"],[0.3333333333333333,\"#9c179e\"],[0.4444444444444444,\"#bd3786\"],[0.5555555555555556,\"#d8576b\"],[0.6666666666666666,\"#ed7953\"],[0.7777777777777778,\"#fb9f3a\"],[0.8888888888888888,\"#fdca26\"],[1.0,\"#f0f921\"]]}],\"heatmap\":[{\"type\":\"heatmap\",\"colorbar\":{\"outlinewidth\":0,\"ticks\":\"\"},\"colorscale\":[[0.0,\"#0d0887\"],[0.1111111111111111,\"#46039f\"],[0.2222222222222222,\"#7201a8\"],[0.3333333333333333,\"#9c179e\"],[0.4444444444444444,\"#bd3786\"],[0.5555555555555556,\"#d8576b\"],[0.6666666666666666,\"#ed7953\"],[0.7777777777777778,\"#fb9f3a\"],[0.8888888888888888,\"#fdca26\"],[1.0,\"#f0f921\"]]}],\"heatmapgl\":[{\"type\":\"heatmapgl\",\"colorbar\":{\"outlinewidth\":0,\"ticks\":\"\"},\"colorscale\":[[0.0,\"#0d0887\"],[0.1111111111111111,\"#46039f\"],[0.2222222222222222,\"#7201a8\"],[0.3333333333333333,\"#9c179e\"],[0.4444444444444444,\"#bd3786\"],[0.5555555555555556,\"#d8576b\"],[0.6666666666666666,\"#ed7953\"],[0.7777777777777778,\"#fb9f3a\"],[0.8888888888888888,\"#fdca26\"],[1.0,\"#f0f921\"]]}],\"contourcarpet\":[{\"type\":\"contourcarpet\",\"colorbar\":{\"outlinewidth\":0,\"ticks\":\"\"}}],\"contour\":[{\"type\":\"contour\",\"colorbar\":{\"outlinewidth\":0,\"ticks\":\"\"},\"colorscale\":[[0.0,\"#0d0887\"],[0.1111111111111111,\"#46039f\"],[0.2222222222222222,\"#7201a8\"],[0.3333333333333333,\"#9c179e\"],[0.4444444444444444,\"#bd3786\"],[0.5555555555555556,\"#d8576b\"],[0.6666666666666666,\"#ed7953\"],[0.7777777777777778,\"#fb9f3a\"],[0.8888888888888888,\"#fdca26\"],[1.0,\"#f0f921\"]]}],\"surface\":[{\"type\":\"surface\",\"colorbar\":{\"outlinewidth\":0,\"ticks\":\"\"},\"colorscale\":[[0.0,\"#0d0887\"],[0.1111111111111111,\"#46039f\"],[0.2222222222222222,\"#7201a8\"],[0.3333333333333333,\"#9c179e\"],[0.4444444444444444,\"#bd3786\"],[0.5555555555555556,\"#d8576b\"],[0.6666666666666666,\"#ed7953\"],[0.7777777777777778,\"#fb9f3a\"],[0.8888888888888888,\"#fdca26\"],[1.0,\"#f0f921\"]]}],\"mesh3d\":[{\"type\":\"mesh3d\",\"colorbar\":{\"outlinewidth\":0,\"ticks\":\"\"}}],\"scatter\":[{\"fillpattern\":{\"fillmode\":\"overlay\",\"size\":10,\"solidity\":0.2},\"type\":\"scatter\"}],\"parcoords\":[{\"type\":\"parcoords\",\"line\":{\"colorbar\":{\"outlinewidth\":0,\"ticks\":\"\"}}}],\"scatterpolargl\":[{\"type\":\"scatterpolargl\",\"marker\":{\"colorbar\":{\"outlinewidth\":0,\"ticks\":\"\"}}}],\"bar\":[{\"error_x\":{\"color\":\"#2a3f5f\"},\"error_y\":{\"color\":\"#2a3f5f\"},\"marker\":{\"line\":{\"color\":\"#E5ECF6\",\"width\":0.5},\"pattern\":{\"fillmode\":\"overlay\",\"size\":10,\"solidity\":0.2}},\"type\":\"bar\"}],\"scattergeo\":[{\"type\":\"scattergeo\",\"marker\":{\"colorbar\":{\"outlinewidth\":0,\"ticks\":\"\"}}}],\"scatterpolar\":[{\"type\":\"scatterpolar\",\"marker\":{\"colorbar\":{\"outlinewidth\":0,\"ticks\":\"\"}}}],\"histogram\":[{\"marker\":{\"pattern\":{\"fillmode\":\"overlay\",\"size\":10,\"solidity\":0.2}},\"type\":\"histogram\"}],\"scattergl\":[{\"type\":\"scattergl\",\"marker\":{\"colorbar\":{\"outlinewidth\":0,\"ticks\":\"\"}}}],\"scatter3d\":[{\"type\":\"scatter3d\",\"line\":{\"colorbar\":{\"outlinewidth\":0,\"ticks\":\"\"}},\"marker\":{\"colorbar\":{\"outlinewidth\":0,\"ticks\":\"\"}}}],\"scattermapbox\":[{\"type\":\"scattermapbox\",\"marker\":{\"colorbar\":{\"outlinewidth\":0,\"ticks\":\"\"}}}],\"scatterternary\":[{\"type\":\"scatterternary\",\"marker\":{\"colorbar\":{\"outlinewidth\":0,\"ticks\":\"\"}}}],\"scattercarpet\":[{\"type\":\"scattercarpet\",\"marker\":{\"colorbar\":{\"outlinewidth\":0,\"ticks\":\"\"}}}],\"carpet\":[{\"aaxis\":{\"endlinecolor\":\"#2a3f5f\",\"gridcolor\":\"white\",\"linecolor\":\"white\",\"minorgridcolor\":\"white\",\"startlinecolor\":\"#2a3f5f\"},\"baxis\":{\"endlinecolor\":\"#2a3f5f\",\"gridcolor\":\"white\",\"linecolor\":\"white\",\"minorgridcolor\":\"white\",\"startlinecolor\":\"#2a3f5f\"},\"type\":\"carpet\"}],\"table\":[{\"cells\":{\"fill\":{\"color\":\"#EBF0F8\"},\"line\":{\"color\":\"white\"}},\"header\":{\"fill\":{\"color\":\"#C8D4E3\"},\"line\":{\"color\":\"white\"}},\"type\":\"table\"}],\"barpolar\":[{\"marker\":{\"line\":{\"color\":\"#E5ECF6\",\"width\":0.5},\"pattern\":{\"fillmode\":\"overlay\",\"size\":10,\"solidity\":0.2}},\"type\":\"barpolar\"}],\"pie\":[{\"automargin\":true,\"type\":\"pie\"}]},\"layout\":{\"autotypenumbers\":\"strict\",\"colorway\":[\"#636efa\",\"#EF553B\",\"#00cc96\",\"#ab63fa\",\"#FFA15A\",\"#19d3f3\",\"#FF6692\",\"#B6E880\",\"#FF97FF\",\"#FECB52\"],\"font\":{\"color\":\"#2a3f5f\"},\"hovermode\":\"closest\",\"hoverlabel\":{\"align\":\"left\"},\"paper_bgcolor\":\"white\",\"plot_bgcolor\":\"#E5ECF6\",\"polar\":{\"bgcolor\":\"#E5ECF6\",\"angularaxis\":{\"gridcolor\":\"white\",\"linecolor\":\"white\",\"ticks\":\"\"},\"radialaxis\":{\"gridcolor\":\"white\",\"linecolor\":\"white\",\"ticks\":\"\"}},\"ternary\":{\"bgcolor\":\"#E5ECF6\",\"aaxis\":{\"gridcolor\":\"white\",\"linecolor\":\"white\",\"ticks\":\"\"},\"baxis\":{\"gridcolor\":\"white\",\"linecolor\":\"white\",\"ticks\":\"\"},\"caxis\":{\"gridcolor\":\"white\",\"linecolor\":\"white\",\"ticks\":\"\"}},\"coloraxis\":{\"colorbar\":{\"outlinewidth\":0,\"ticks\":\"\"}},\"colorscale\":{\"sequential\":[[0.0,\"#0d0887\"],[0.1111111111111111,\"#46039f\"],[0.2222222222222222,\"#7201a8\"],[0.3333333333333333,\"#9c179e\"],[0.4444444444444444,\"#bd3786\"],[0.5555555555555556,\"#d8576b\"],[0.6666666666666666,\"#ed7953\"],[0.7777777777777778,\"#fb9f3a\"],[0.8888888888888888,\"#fdca26\"],[1.0,\"#f0f921\"]],\"sequentialminus\":[[0.0,\"#0d0887\"],[0.1111111111111111,\"#46039f\"],[0.2222222222222222,\"#7201a8\"],[0.3333333333333333,\"#9c179e\"],[0.4444444444444444,\"#bd3786\"],[0.5555555555555556,\"#d8576b\"],[0.6666666666666666,\"#ed7953\"],[0.7777777777777778,\"#fb9f3a\"],[0.8888888888888888,\"#fdca26\"],[1.0,\"#f0f921\"]],\"diverging\":[[0,\"#8e0152\"],[0.1,\"#c51b7d\"],[0.2,\"#de77ae\"],[0.3,\"#f1b6da\"],[0.4,\"#fde0ef\"],[0.5,\"#f7f7f7\"],[0.6,\"#e6f5d0\"],[0.7,\"#b8e186\"],[0.8,\"#7fbc41\"],[0.9,\"#4d9221\"],[1,\"#276419\"]]},\"xaxis\":{\"gridcolor\":\"white\",\"linecolor\":\"white\",\"ticks\":\"\",\"title\":{\"standoff\":15},\"zerolinecolor\":\"white\",\"automargin\":true,\"zerolinewidth\":2},\"yaxis\":{\"gridcolor\":\"white\",\"linecolor\":\"white\",\"ticks\":\"\",\"title\":{\"standoff\":15},\"zerolinecolor\":\"white\",\"automargin\":true,\"zerolinewidth\":2},\"scene\":{\"xaxis\":{\"backgroundcolor\":\"#E5ECF6\",\"gridcolor\":\"white\",\"linecolor\":\"white\",\"showbackground\":true,\"ticks\":\"\",\"zerolinecolor\":\"white\",\"gridwidth\":2},\"yaxis\":{\"backgroundcolor\":\"#E5ECF6\",\"gridcolor\":\"white\",\"linecolor\":\"white\",\"showbackground\":true,\"ticks\":\"\",\"zerolinecolor\":\"white\",\"gridwidth\":2},\"zaxis\":{\"backgroundcolor\":\"#E5ECF6\",\"gridcolor\":\"white\",\"linecolor\":\"white\",\"showbackground\":true,\"ticks\":\"\",\"zerolinecolor\":\"white\",\"gridwidth\":2}},\"shapedefaults\":{\"line\":{\"color\":\"#2a3f5f\"}},\"annotationdefaults\":{\"arrowcolor\":\"#2a3f5f\",\"arrowhead\":0,\"arrowwidth\":1},\"geo\":{\"bgcolor\":\"white\",\"landcolor\":\"#E5ECF6\",\"subunitcolor\":\"white\",\"showland\":true,\"showlakes\":true,\"lakecolor\":\"white\"},\"title\":{\"x\":0.05},\"mapbox\":{\"style\":\"light\"}}},\"xaxis\":{\"anchor\":\"y\",\"domain\":[0.0,1.0],\"title\":{\"text\":\"x\"}},\"yaxis\":{\"anchor\":\"x\",\"domain\":[0.0,1.0]},\"legend\":{\"tracegroupgap\":0},\"title\":{\"text\":\"Margin of Casino Profit based on MC Simulation\"},\"boxmode\":\"group\",\"height\":500,\"width\":800},                        {\"responsive\": true}                    ).then(function(){\n",
              "                            \n",
              "var gd = document.getElementById('d674b5d9-978a-47bd-a114-2154241b0903');\n",
              "var x = new MutationObserver(function (mutations, observer) {{\n",
              "        var display = window.getComputedStyle(gd).display;\n",
              "        if (!display || display === 'none') {{\n",
              "            console.log([gd, 'removed!']);\n",
              "            Plotly.purge(gd);\n",
              "            observer.disconnect();\n",
              "        }}\n",
              "}});\n",
              "\n",
              "// Listen for the removal of the full notebook cells\n",
              "var notebookContainer = gd.closest('#notebook-container');\n",
              "if (notebookContainer) {{\n",
              "    x.observe(notebookContainer, {childList: true});\n",
              "}}\n",
              "\n",
              "// Listen for the clearing of the current output cell\n",
              "var outputEl = gd.closest('.output');\n",
              "if (outputEl) {{\n",
              "    x.observe(outputEl, {childList: true});\n",
              "}}\n",
              "\n",
              "                        })                };                            </script>        </div>\n",
              "</body>\n",
              "</html>"
            ]
          },
          "metadata": {}
        }
      ],
      "source": [
        "import plotly.express as px\n",
        "\n",
        "fig = px.box(\n",
        "    # y = range(0,1000),\n",
        "    x=margin,\n",
        "    title='Margin of Casino Profit based on MC Simulation'\n",
        "    )\n",
        "fig.update_layout(height = 500, width = 800)\n",
        "fig.update_traces(orientation='h')\n",
        "fig.show()"
      ]
    },
    {
      "cell_type": "code",
      "source": [],
      "metadata": {
        "id": "fFxHuas_cqcm"
      },
      "execution_count": null,
      "outputs": []
    }
  ]
}